{
 "cells": [
  {
   "cell_type": "markdown",
   "metadata": {},
   "source": [
    "## Searching Algorithms\n",
    "\n",
    "- Searching Algorithms are designed \n",
    "- to **check** for an element or **retrieve** an element \n",
    "- from any data structure where it is stored. \n",
    "- Based on the type of search operation, \n",
    "- these algorithms are generally classified into **two categories**\n",
    "- **Sequential Search**\n",
    "  - e.g. **Linear Search**\n",
    "  - In this, the list or array is \n",
    "  - traversed **sequentially** and **every element** is checked. \n",
    "- **Interval Search**\n",
    "  - e.g. **Binary Search**\n",
    "  - These algorithms are **specifically** designed \n",
    "  - for searching in **sorted data-structures**. \n",
    "  - These type of searching algorithms are much more \n",
    "  - efficient than Linear Search \n",
    "  - as they **repeatedly target the center** of the search structure \n",
    "  - and **divide the search space** in half. "
   ]
  },
  {
   "cell_type": "markdown",
   "metadata": {},
   "source": [
    "## Linear Search vs Binary Search\n",
    "\n",
    "- Assume that item is **in an array in random order** \n",
    "- and we have to **find an item**. \n",
    "- Then the only way to search for a target item is, to begin with, \n",
    "- the **first position** and **compare** it **to the target**. \n",
    "- **If** the item is at the **same**, \n",
    "- we will **return** the position of the current item. \n",
    "- **Otherwise**, we will **move to** the **next position**. \n",
    "- **If** we **arrive** at the **last position** of an array \n",
    "- and still can **not find** the target, we **return -1**. \n",
    "- This is called the **Linear search** or **Sequential search**."
   ]
  },
  {
   "cell_type": "code",
   "execution_count": 4,
   "metadata": {},
   "outputs": [
    {
     "name": "stdout",
     "output_type": "stream",
     "text": [
      "Element is Present at Index:  3\n"
     ]
    }
   ],
   "source": [
    "# Linear Search in Python\n",
    "\n",
    "def linearSearch(array, n, x):\n",
    "\n",
    "\tfor i in range(0, n):\n",
    "\t\tif (array[i] == x):\n",
    "\t\t\treturn i\n",
    "\treturn -1\n",
    "\n",
    "\n",
    "array = [24, 41, 31, 11, 9]\n",
    "x = 11\n",
    "n = len(array)\n",
    "result = linearSearch(array, n, x)\n",
    "if(result == -1):\n",
    "\tprint(\"Element not found\")\n",
    "else:\n",
    "\tprint(\"Element is Present at Index: \", result)"
   ]
  },
  {
   "cell_type": "code",
   "execution_count": 5,
   "metadata": {},
   "outputs": [
    {
     "name": "stdout",
     "output_type": "stream",
     "text": [
      "7\n"
     ]
    }
   ],
   "source": [
    "# Binary Search in Python\n",
    "\n",
    "def binarySearch(array, x, low, high):\n",
    "\n",
    "\twhile low <= high:\n",
    "\n",
    "\t\tmid = low + (high - low)//2\n",
    "\n",
    "\t\tif array[mid] == x:\n",
    "\t\t\treturn mid\n",
    "\n",
    "\t\telif array[mid] < x:\n",
    "\t\t\tlow = mid + 1\n",
    "\n",
    "\t\telse:\n",
    "\t\t\thigh = mid - 1\n",
    "\n",
    "\treturn -1\n",
    "\n",
    "\n",
    "array = [2, 4, 5, 17, 14, 7, 11, 22]\n",
    "x = 22\n",
    "\n",
    "result = binarySearch(array, x, 0, len(array)-1)\n",
    "\n",
    "if result != -1:\n",
    "\tprint(str(result))\n",
    "else:\n",
    "\tprint(\"Not found\")"
   ]
  },
  {
   "cell_type": "markdown",
   "metadata": {},
   "source": [
    "| Linear Search | Binary Search |\n",
    "| :---: | :---: |\n",
    "| In linear search input data need **not to be in sorted**. | In binary search input data **need to be in sorted** order. |\n",
    "| It is also called **sequential** search. | It is also called **half-interval** search. |\n",
    "| The time complexity of linear search O(n). | The time complexity of binary search O(log n). |\n",
    "| Multidimensional array can be used. | Only single dimensional array is used. |\n",
    "| Linear search performs **equality comparisons** | Binary search performs **ordering comparisons** |\n",
    "| It is **less complex**. | It is **more complex**. |\n",
    "| It is **very slow** process. | It is **very fast** process. |"
   ]
  },
  {
   "cell_type": "markdown",
   "metadata": {},
   "source": [
    "## Interpolation search vs Binary search\n",
    "\n",
    "- Interpolation search works **better than Binary Search** for a **Sorted and Uniformly Distributed array**. \n",
    "- **Binary Search** goes to the **middle element** to **check irrespective of search-key**. \n",
    "- On the other hand, **Interpolation Search** may go to **different locations according to search-key**. \n",
    "- **If** the value of the **search-key** is **close to the last element**, \n",
    "- Interpolation Search is likely to start **search toward the end side**.\n",
    "- On average the interpolation search makes about log(log(n)) comparisons (if the elements are uniformly distributed), where n is the number of elements to be searched. \n",
    "- In the worst case (for instance where the numerical values of the keys increase exponentially) it can make up to O(n) comparisons. \n",
    "- it seems the ternary search does less number of comparisons as it makes Log3n recursive calls, but binary search makes Log2n recursive calls.\n",
    "- the comparison of **Ternary and Binary** Searches boils down the comparison of expressions **2Log3n and Log2n**."
   ]
  },
  {
   "cell_type": "code",
   "execution_count": 6,
   "metadata": {},
   "outputs": [],
   "source": [
    "# A recursive binary search function.\n",
    "\n",
    "def binarySearch(arr, l, r, x):\n",
    "\tif (r >= l):\n",
    "\t\tmid = l + (r - l)/2\n",
    "\t\t\t\n",
    "\t\tif (arr[mid] == x):\n",
    "\t\t\treturn mid\n",
    "\n",
    "\t\telif (arr[mid] > x):\n",
    "\t\t\treturn binarySearch(arr, l, mid-1, x)\n",
    "\n",
    "\t\telse:\n",
    "\t\t\treturn binarySearch(arr, mid+1, r, x)\n",
    "\t\t\n",
    "\treturn -1"
   ]
  },
  {
   "cell_type": "code",
   "execution_count": 10,
   "metadata": {},
   "outputs": [],
   "source": [
    "# A recursive ternary search function.\n",
    "\n",
    "def ternarySearch(arr, l, r, x):\n",
    "\tif (r >= l):\n",
    "\t\tmid1 = l + (r - l)//3\n",
    "\t\tmid2 = mid1 + (r - l)//3\n",
    "\n",
    "\t\t# If x is present at the mid1\n",
    "\t\tif arr[mid1] == x:\n",
    "\t\t\treturn mid1\n",
    "\n",
    "\t\t# If x is present at the mid2\n",
    "\t\tif arr[mid2] == x:\n",
    "\t\t\treturn mid2\n",
    "\n",
    "\t\t# If x is present in left one-third\n",
    "\t\tif arr[mid1] > x:\n",
    "\t\t\treturn ternarySearch(arr, l, mid1-1, x)\n",
    "\n",
    "\t\t# If x is present in right one-third\n",
    "\t\tif arr[mid2] < x:\n",
    "\t\t\treturn ternarySearch(arr, mid2+1, r, x)\n",
    "\n",
    "\t\t# If x is present in middle one-third\n",
    "\t\treturn ternarySearch(arr, mid1+1, mid2-1, x)\n",
    "\n",
    "\t# We reach here when element is not present in array\n",
    "\treturn -1"
   ]
  },
  {
   "cell_type": "code",
   "execution_count": null,
   "metadata": {},
   "outputs": [],
   "source": []
  }
 ],
 "metadata": {
  "kernelspec": {
   "display_name": "Python 3.10.4 ('dsa')",
   "language": "python",
   "name": "python3"
  },
  "language_info": {
   "codemirror_mode": {
    "name": "ipython",
    "version": 3
   },
   "file_extension": ".py",
   "mimetype": "text/x-python",
   "name": "python",
   "nbconvert_exporter": "python",
   "pygments_lexer": "ipython3",
   "version": "3.10.4"
  },
  "orig_nbformat": 4,
  "vscode": {
   "interpreter": {
    "hash": "0d6dd43efe11c094964d50703546b3f4892ad5efa9c82f100004b4750c73a6be"
   }
  }
 },
 "nbformat": 4,
 "nbformat_minor": 2
}
