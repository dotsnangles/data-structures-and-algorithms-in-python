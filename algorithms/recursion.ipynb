{
 "cells": [
  {
   "cell_type": "code",
   "execution_count": 4,
   "metadata": {},
   "outputs": [],
   "source": [
    "def fact(n: int) -> int:\n",
    "    if n <= 1:\n",
    "        return 1\n",
    "    else:\n",
    "        return n * fact(n-1)"
   ]
  },
  {
   "cell_type": "code",
   "execution_count": 16,
   "metadata": {},
   "outputs": [
    {
     "data": {
      "text/plain": [
       "30414093201713378043612608166064768844377641568960512000000000000"
      ]
     },
     "execution_count": 16,
     "metadata": {},
     "output_type": "execute_result"
    }
   ],
   "source": [
    "fact(50)"
   ]
  },
  {
   "cell_type": "code",
   "execution_count": 18,
   "metadata": {},
   "outputs": [],
   "source": [
    "def fib(n: int) -> int:\n",
    "    if n == 0:\n",
    "        return 0\n",
    "    elif n == 1 or n == 2:\n",
    "        return 1\n",
    "    else:\n",
    "        return fib(n-1) + fib(n-2)"
   ]
  },
  {
   "cell_type": "code",
   "execution_count": 21,
   "metadata": {},
   "outputs": [
    {
     "ename": "KeyboardInterrupt",
     "evalue": "",
     "output_type": "error",
     "traceback": [
      "\u001b[0;31m---------------------------------------------------------------------------\u001b[0m",
      "\u001b[0;31mKeyboardInterrupt\u001b[0m                         Traceback (most recent call last)",
      "\u001b[1;32m/home/jake/study/data-structures-and-algorithms-in-python/practice/recursion.ipynb Cell 4\u001b[0m in \u001b[0;36m<cell line: 1>\u001b[0;34m()\u001b[0m\n\u001b[0;32m----> <a href='vscode-notebook-cell://wsl%2Bubuntu/home/jake/study/data-structures-and-algorithms-in-python/practice/recursion.ipynb#W3sdnNjb2RlLXJlbW90ZQ%3D%3D?line=0'>1</a>\u001b[0m fib(\u001b[39m100\u001b[39;49m)\n",
      "\u001b[1;32m/home/jake/study/data-structures-and-algorithms-in-python/practice/recursion.ipynb Cell 4\u001b[0m in \u001b[0;36mfib\u001b[0;34m(n)\u001b[0m\n\u001b[1;32m      <a href='vscode-notebook-cell://wsl%2Bubuntu/home/jake/study/data-structures-and-algorithms-in-python/practice/recursion.ipynb#W3sdnNjb2RlLXJlbW90ZQ%3D%3D?line=4'>5</a>\u001b[0m     \u001b[39mreturn\u001b[39;00m \u001b[39m1\u001b[39m\n\u001b[1;32m      <a href='vscode-notebook-cell://wsl%2Bubuntu/home/jake/study/data-structures-and-algorithms-in-python/practice/recursion.ipynb#W3sdnNjb2RlLXJlbW90ZQ%3D%3D?line=5'>6</a>\u001b[0m \u001b[39melse\u001b[39;00m:\n\u001b[0;32m----> <a href='vscode-notebook-cell://wsl%2Bubuntu/home/jake/study/data-structures-and-algorithms-in-python/practice/recursion.ipynb#W3sdnNjb2RlLXJlbW90ZQ%3D%3D?line=6'>7</a>\u001b[0m     \u001b[39mreturn\u001b[39;00m fib(n\u001b[39m-\u001b[39;49m\u001b[39m1\u001b[39;49m) \u001b[39m+\u001b[39m fib(n\u001b[39m-\u001b[39m\u001b[39m2\u001b[39m)\n",
      "\u001b[1;32m/home/jake/study/data-structures-and-algorithms-in-python/practice/recursion.ipynb Cell 4\u001b[0m in \u001b[0;36mfib\u001b[0;34m(n)\u001b[0m\n\u001b[1;32m      <a href='vscode-notebook-cell://wsl%2Bubuntu/home/jake/study/data-structures-and-algorithms-in-python/practice/recursion.ipynb#W3sdnNjb2RlLXJlbW90ZQ%3D%3D?line=4'>5</a>\u001b[0m     \u001b[39mreturn\u001b[39;00m \u001b[39m1\u001b[39m\n\u001b[1;32m      <a href='vscode-notebook-cell://wsl%2Bubuntu/home/jake/study/data-structures-and-algorithms-in-python/practice/recursion.ipynb#W3sdnNjb2RlLXJlbW90ZQ%3D%3D?line=5'>6</a>\u001b[0m \u001b[39melse\u001b[39;00m:\n\u001b[0;32m----> <a href='vscode-notebook-cell://wsl%2Bubuntu/home/jake/study/data-structures-and-algorithms-in-python/practice/recursion.ipynb#W3sdnNjb2RlLXJlbW90ZQ%3D%3D?line=6'>7</a>\u001b[0m     \u001b[39mreturn\u001b[39;00m fib(n\u001b[39m-\u001b[39;49m\u001b[39m1\u001b[39;49m) \u001b[39m+\u001b[39m fib(n\u001b[39m-\u001b[39m\u001b[39m2\u001b[39m)\n",
      "    \u001b[0;31m[... skipping similar frames: fib at line 7 (77 times)]\u001b[0m\n",
      "\u001b[1;32m/home/jake/study/data-structures-and-algorithms-in-python/practice/recursion.ipynb Cell 4\u001b[0m in \u001b[0;36mfib\u001b[0;34m(n)\u001b[0m\n\u001b[1;32m      <a href='vscode-notebook-cell://wsl%2Bubuntu/home/jake/study/data-structures-and-algorithms-in-python/practice/recursion.ipynb#W3sdnNjb2RlLXJlbW90ZQ%3D%3D?line=4'>5</a>\u001b[0m     \u001b[39mreturn\u001b[39;00m \u001b[39m1\u001b[39m\n\u001b[1;32m      <a href='vscode-notebook-cell://wsl%2Bubuntu/home/jake/study/data-structures-and-algorithms-in-python/practice/recursion.ipynb#W3sdnNjb2RlLXJlbW90ZQ%3D%3D?line=5'>6</a>\u001b[0m \u001b[39melse\u001b[39;00m:\n\u001b[0;32m----> <a href='vscode-notebook-cell://wsl%2Bubuntu/home/jake/study/data-structures-and-algorithms-in-python/practice/recursion.ipynb#W3sdnNjb2RlLXJlbW90ZQ%3D%3D?line=6'>7</a>\u001b[0m     \u001b[39mreturn\u001b[39;00m fib(n\u001b[39m-\u001b[39;49m\u001b[39m1\u001b[39;49m) \u001b[39m+\u001b[39m fib(n\u001b[39m-\u001b[39m\u001b[39m2\u001b[39m)\n",
      "\u001b[1;32m/home/jake/study/data-structures-and-algorithms-in-python/practice/recursion.ipynb Cell 4\u001b[0m in \u001b[0;36mfib\u001b[0;34m(n)\u001b[0m\n\u001b[1;32m      <a href='vscode-notebook-cell://wsl%2Bubuntu/home/jake/study/data-structures-and-algorithms-in-python/practice/recursion.ipynb#W3sdnNjb2RlLXJlbW90ZQ%3D%3D?line=0'>1</a>\u001b[0m \u001b[39mdef\u001b[39;00m \u001b[39mfib\u001b[39m(n: \u001b[39mint\u001b[39m) \u001b[39m-\u001b[39m\u001b[39m>\u001b[39m \u001b[39mint\u001b[39m:\n\u001b[0;32m----> <a href='vscode-notebook-cell://wsl%2Bubuntu/home/jake/study/data-structures-and-algorithms-in-python/practice/recursion.ipynb#W3sdnNjb2RlLXJlbW90ZQ%3D%3D?line=1'>2</a>\u001b[0m     \u001b[39mif\u001b[39;00m n \u001b[39m==\u001b[39m \u001b[39m0\u001b[39m:\n\u001b[1;32m      <a href='vscode-notebook-cell://wsl%2Bubuntu/home/jake/study/data-structures-and-algorithms-in-python/practice/recursion.ipynb#W3sdnNjb2RlLXJlbW90ZQ%3D%3D?line=2'>3</a>\u001b[0m         \u001b[39mreturn\u001b[39;00m \u001b[39m0\u001b[39m\n\u001b[1;32m      <a href='vscode-notebook-cell://wsl%2Bubuntu/home/jake/study/data-structures-and-algorithms-in-python/practice/recursion.ipynb#W3sdnNjb2RlLXJlbW90ZQ%3D%3D?line=3'>4</a>\u001b[0m     \u001b[39melif\u001b[39;00m n \u001b[39m==\u001b[39m \u001b[39m1\u001b[39m \u001b[39mor\u001b[39;00m n \u001b[39m==\u001b[39m \u001b[39m2\u001b[39m:\n",
      "\u001b[0;31mKeyboardInterrupt\u001b[0m: "
     ]
    }
   ],
   "source": [
    "fib(100)"
   ]
  },
  {
   "cell_type": "markdown",
   "metadata": {},
   "source": [
    "### Direct Recursion\n",
    "\n",
    "These can be further categorized into four types"
   ]
  },
  {
   "cell_type": "markdown",
   "metadata": {},
   "source": [
    "#### Tail Recursion\n",
    "\n",
    "If a recursive function calling itself and that recursive call is the last statement in the function then it’s known as Tail Recursion. After that call the recursive function performs nothing. The function has to process or perform any operation at the time of calling and it does nothing at returning time."
   ]
  },
  {
   "cell_type": "code",
   "execution_count": 22,
   "metadata": {},
   "outputs": [],
   "source": [
    "def fun(n: int) -> int:\n",
    "    if (n > 0):\n",
    "        print(n, end=' ')\n",
    "        fun(n - 1)"
   ]
  },
  {
   "cell_type": "code",
   "execution_count": 24,
   "metadata": {},
   "outputs": [
    {
     "name": "stdout",
     "output_type": "stream",
     "text": [
      "3 2 1 "
     ]
    }
   ],
   "source": [
    "fun(3)"
   ]
  },
  {
   "cell_type": "markdown",
   "metadata": {},
   "source": [
    "#### Head Recursion\n",
    "If a recursive function calling itself and that recursive call is the first statement in the function then it’s known as Head Recursion. There’s no statement, no operation before the call. The function doesn’t have to process or perform any operation at the time of calling and all operations are done at returning time."
   ]
  },
  {
   "cell_type": "code",
   "execution_count": 25,
   "metadata": {},
   "outputs": [],
   "source": [
    "def fun(n: int) -> int:\n",
    "    if (n > 0):\n",
    "        fun(n -1)\n",
    "        print(n, end=' ')"
   ]
  },
  {
   "cell_type": "code",
   "execution_count": 27,
   "metadata": {},
   "outputs": [
    {
     "name": "stdout",
     "output_type": "stream",
     "text": [
      "1 2 3 "
     ]
    }
   ],
   "source": [
    "fun(3)"
   ]
  },
  {
   "cell_type": "markdown",
   "metadata": {},
   "source": [
    "#### Tree Recursion\n",
    "\n",
    "To understand Tree Recursion let’s first understand Linear Recursion. If a recursive function calling itself for one time then it’s known as Linear Recursion. Otherwise if a recursive function calling itself for more than one time then it’s known as Tree Recursion."
   ]
  },
  {
   "cell_type": "code",
   "execution_count": 32,
   "metadata": {},
   "outputs": [],
   "source": [
    "def fun(n: int) -> int:\n",
    "    if (n > 0):\n",
    "        print(n, end=' ')\n",
    "        fun(n - 1)\n",
    "        fun(n - 1)"
   ]
  },
  {
   "cell_type": "code",
   "execution_count": 33,
   "metadata": {},
   "outputs": [
    {
     "name": "stdout",
     "output_type": "stream",
     "text": [
      "3 2 1 1 2 1 1 "
     ]
    }
   ],
   "source": [
    "fun(3)"
   ]
  },
  {
   "cell_type": "markdown",
   "metadata": {},
   "source": [
    "### Nested Recursion\n",
    "\n",
    "In this recursion, a recursive function will pass the parameter as a recursive call. That means “recursion inside recursion”. Let see the example to understand this recursion."
   ]
  },
  {
   "cell_type": "code",
   "execution_count": 30,
   "metadata": {},
   "outputs": [],
   "source": [
    "def fun(n: int) -> int:\n",
    "    if (n > 100):\n",
    "        print('recurse')\n",
    "        print(n)\n",
    "        return n - 10\n",
    "    return fun(fun(n + 11))"
   ]
  },
  {
   "cell_type": "code",
   "execution_count": 34,
   "metadata": {},
   "outputs": [
    {
     "name": "stdout",
     "output_type": "stream",
     "text": [
      "recurse\n",
      "111\n",
      "recurse\n",
      "101\n",
      "recurse\n",
      "102\n",
      "recurse\n",
      "103\n",
      "recurse\n",
      "104\n",
      "recurse\n",
      "105\n",
      "recurse\n",
      "106\n",
      "recurse\n",
      "107\n",
      "recurse\n",
      "108\n",
      "recurse\n",
      "109\n",
      "recurse\n",
      "110\n",
      "recurse\n",
      "111\n",
      "recurse\n",
      "101\n",
      "recurse\n",
      "102\n",
      "recurse\n",
      "103\n",
      "recurse\n",
      "104\n",
      "recurse\n",
      "105\n",
      "recurse\n",
      "106\n",
      "recurse\n",
      "107\n",
      "recurse\n",
      "108\n",
      "recurse\n",
      "109\n",
      "recurse\n",
      "110\n",
      "recurse\n",
      "111\n",
      "recurse\n",
      "101\n",
      "recurse\n",
      "102\n",
      "recurse\n",
      "103\n",
      "recurse\n",
      "104\n",
      "recurse\n",
      "105\n",
      "recurse\n",
      "106\n",
      "recurse\n",
      "107\n",
      "recurse\n",
      "108\n",
      "recurse\n",
      "109\n",
      "recurse\n",
      "110\n",
      "recurse\n",
      "111\n",
      "recurse\n",
      "101\n",
      "recurse\n",
      "102\n",
      "recurse\n",
      "103\n",
      "recurse\n",
      "104\n",
      "recurse\n",
      "105\n",
      "recurse\n",
      "106\n",
      "recurse\n",
      "107\n",
      "recurse\n",
      "108\n",
      "recurse\n",
      "109\n",
      "recurse\n",
      "110\n",
      "recurse\n",
      "111\n",
      "recurse\n",
      "101\n",
      "recurse\n",
      "102\n",
      "recurse\n",
      "103\n",
      "recurse\n",
      "104\n",
      "recurse\n",
      "105\n",
      "recurse\n",
      "106\n",
      "recurse\n",
      "107\n",
      "recurse\n",
      "108\n",
      "recurse\n",
      "109\n",
      "recurse\n",
      "110\n",
      "recurse\n",
      "111\n",
      "recurse\n",
      "101\n",
      "recurse\n",
      "102\n",
      "recurse\n",
      "103\n",
      "recurse\n",
      "104\n",
      "recurse\n",
      "105\n",
      "recurse\n",
      "106\n",
      "recurse\n",
      "107\n",
      "recurse\n",
      "108\n",
      "recurse\n",
      "109\n",
      "recurse\n",
      "110\n",
      "recurse\n",
      "111\n",
      "recurse\n",
      "101\n",
      "recurse\n",
      "102\n",
      "recurse\n",
      "103\n",
      "recurse\n",
      "104\n",
      "recurse\n",
      "105\n",
      "recurse\n",
      "106\n",
      "recurse\n",
      "107\n",
      "recurse\n",
      "108\n",
      "recurse\n",
      "109\n",
      "recurse\n",
      "110\n",
      "recurse\n",
      "111\n",
      "recurse\n",
      "101\n",
      "recurse\n",
      "102\n",
      "recurse\n",
      "103\n",
      "recurse\n",
      "104\n",
      "recurse\n",
      "105\n",
      "recurse\n",
      "106\n",
      "recurse\n",
      "107\n",
      "recurse\n",
      "108\n",
      "recurse\n",
      "109\n",
      "recurse\n",
      "110\n",
      "recurse\n",
      "111\n",
      "recurse\n",
      "101\n",
      "recurse\n",
      "102\n",
      "recurse\n",
      "103\n",
      "recurse\n",
      "104\n",
      "recurse\n",
      "105\n",
      "recurse\n",
      "106\n",
      "recurse\n",
      "107\n",
      "recurse\n",
      "108\n",
      "recurse\n",
      "109\n",
      "recurse\n",
      "110\n",
      "recurse\n",
      "111\n",
      "recurse\n",
      "101\n",
      "91\n"
     ]
    }
   ],
   "source": [
    "r = fun(1)\n",
    "print(r)"
   ]
  },
  {
   "cell_type": "markdown",
   "metadata": {},
   "source": [
    "## Indirect Recursion\n",
    "\n",
    "In this recursion, there may be more than one functions and they are calling one another in a circular manner."
   ]
  },
  {
   "cell_type": "code",
   "execution_count": 35,
   "metadata": {},
   "outputs": [],
   "source": [
    "def funA(n: int ) -> int:\n",
    "    if (n > 0):\n",
    "        print(n, end=' ')\n",
    "        funB(n - 1)\n",
    "\n",
    "def funB(n: int) -> int:\n",
    "    if (n > 1):\n",
    "        print(n, end=' ')\n",
    "        funA(n // 2)"
   ]
  },
  {
   "cell_type": "code",
   "execution_count": 36,
   "metadata": {},
   "outputs": [
    {
     "name": "stdout",
     "output_type": "stream",
     "text": [
      "20 19 9 8 4 3 1 "
     ]
    }
   ],
   "source": [
    "funA(20)"
   ]
  }
 ],
 "metadata": {
  "kernelspec": {
   "display_name": "Python 3.10.4 ('dsa')",
   "language": "python",
   "name": "python3"
  },
  "language_info": {
   "codemirror_mode": {
    "name": "ipython",
    "version": 3
   },
   "file_extension": ".py",
   "mimetype": "text/x-python",
   "name": "python",
   "nbconvert_exporter": "python",
   "pygments_lexer": "ipython3",
   "version": "3.10.4"
  },
  "orig_nbformat": 4,
  "vscode": {
   "interpreter": {
    "hash": "0d6dd43efe11c094964d50703546b3f4892ad5efa9c82f100004b4750c73a6be"
   }
  }
 },
 "nbformat": 4,
 "nbformat_minor": 2
}
