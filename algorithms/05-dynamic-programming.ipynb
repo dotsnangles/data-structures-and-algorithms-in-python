{
 "cells": [
  {
   "cell_type": "markdown",
   "metadata": {},
   "source": [
    "## Dynamic Programming\n",
    "\n",
    "- Dynamic Programming is an algorithmic paradigm that solves a given **complex problem** \n",
    "- by breaking it **into subproblems** \n",
    "- using **recursion** and **storing the results** of subproblems \n",
    "- to **avoid computing the same results** again. \n",
    "- Following are the two main properties of a problem \n",
    "- that suggests that the given problem can be solved using Dynamic programming.\n",
    "  - ***Overlapping Subproblems*** \n",
    "  - ***Optimal Substructure***"
   ]
  },
  {
   "cell_type": "markdown",
   "metadata": {},
   "source": [
    "## Overlapping Subproblems Property in Dynamic Programming\n",
    "\n",
    "- Like Divide and Conquer, Dynamic Programming combines \n",
    "- **solutions to sub-problems**. \n",
    "- Dynamic Programming is mainly used \n",
    "- when **solutions to the same subproblems are needed again** and again. \n",
    "- In dynamic programming, computed **solutions** to subproblems are **stored in a table** \n",
    "- so that these don’t have to be recomputed. \n",
    "- So Dynamic Programming is **not useful** when there are **no common (overlapping) subproblems** \n",
    "- because there is no point in storing the solutions if they are not needed again. \n",
    "- For example, Binary Search doesn’t have common subproblems. \n",
    "- If we take the example of following a recursive program for Fibonacci Numbers, \n",
    "- there are many subproblems that are solved again and again."
   ]
  },
  {
   "cell_type": "code",
   "execution_count": 6,
   "metadata": {},
   "outputs": [
    {
     "data": {
      "text/plain": [
       "13"
      ]
     },
     "execution_count": 6,
     "metadata": {},
     "output_type": "execute_result"
    }
   ],
   "source": [
    "# a simple recursive program for Fibonacci numbers\n",
    "\n",
    "def fib(n):\n",
    "\tif n <= 1:\n",
    "\t\treturn n\n",
    "\n",
    "\treturn fib(n - 1) + fib(n - 2)\n",
    "\n",
    "fib(7)"
   ]
  },
  {
   "cell_type": "markdown",
   "metadata": {},
   "source": [
    "- We can see that the **function fib(3)** is being **called 2 times**. \n",
    "- If we would have **stored the value of fib(3)**, then instead of computing it again, \n",
    "- we could have **reused the old stored value**. \n",
    "- There are following **two different ways to store the values** so that these values can be reused: \n",
    "  - ***Memoization (Top Down)*** \n",
    "  - ***Tabulation (Bottom Up)***"
   ]
  },
  {
   "cell_type": "markdown",
   "metadata": {},
   "source": [
    "### Memoization (Top Down)\n",
    "\n",
    "- The **memoized program** for a problem is **similar to** the \n",
    "- **recursive version with** a small modification that looks into a **lookup table** before computing solutions. \n",
    "- We **initialize a lookup array** with all initial values as NIL. \n",
    "- **When**ever we **need the solution to a subproblem**, \n",
    "- we **first look into** the **lookup table**. \n",
    "- If the **precomputed value** is there \n",
    "- then we **return that value**, \n",
    "- **otherwise**, we **calculate the value** and **put the result in the lookup table** \n",
    "- so that it can be reused later."
   ]
  },
  {
   "cell_type": "code",
   "execution_count": 8,
   "metadata": {},
   "outputs": [
    {
     "name": "stdout",
     "output_type": "stream",
     "text": [
      "Fibonacci Number is  5702887\n"
     ]
    }
   ],
   "source": [
    "# a program for Memoized version of nth Fibonacci number\n",
    "\n",
    "def fib(n, lookup):\n",
    "\tif n <= 1:\n",
    "\t\tlookup[n] = n\n",
    "\n",
    "\tif lookup[n] is None:\n",
    "\t\tlookup[n] = fib(n-1, lookup) + fib(n-2, lookup)\n",
    "\n",
    "\treturn lookup[n]\n",
    "\n",
    "n = 34\n",
    "lookup = [None] * 101\n",
    "print(\"Fibonacci Number is \", fib(n, lookup))"
   ]
  },
  {
   "cell_type": "markdown",
   "metadata": {},
   "source": [
    "### Tabulation (Bottom Up)\n",
    "\n",
    "- The **tabulated program** for a given problem builds \n",
    "- **a table in a bottom-up fashion** \n",
    "- and **returns** the **last entry from the table**. \n",
    "- For example, for the same Fibonacci number, \n",
    "- we first **calculate fib(0) then fib(1) then fib(2) then fib(3), and so on**. \n",
    "- So literally, we are building the **solutions** to subproblems **bottom-up**. "
   ]
  },
  {
   "cell_type": "code",
   "execution_count": 10,
   "metadata": {},
   "outputs": [
    {
     "name": "stdout",
     "output_type": "stream",
     "text": [
      "Fibonacci number is  34\n"
     ]
    }
   ],
   "source": [
    "# Python program Tabulated (bottom up) version\n",
    "def fib(n):\n",
    "\tf = [0] * (n + 1)\n",
    "\n",
    "\tf[1] = 1\n",
    "\n",
    "\tfor i in range(2, n + 1):\n",
    "\t\tf[i] = f[i - 1] + f[i - 2]\n",
    "\treturn f[n]\n",
    "\n",
    "\n",
    "n = 9\n",
    "print(\"Fibonacci number is \", fib(n))"
   ]
  }
 ],
 "metadata": {
  "kernelspec": {
   "display_name": "Python 3.10.4 ('dsa')",
   "language": "python",
   "name": "python3"
  },
  "language_info": {
   "codemirror_mode": {
    "name": "ipython",
    "version": 3
   },
   "file_extension": ".py",
   "mimetype": "text/x-python",
   "name": "python",
   "nbconvert_exporter": "python",
   "pygments_lexer": "ipython3",
   "version": "3.10.4"
  },
  "orig_nbformat": 4,
  "vscode": {
   "interpreter": {
    "hash": "0d6dd43efe11c094964d50703546b3f4892ad5efa9c82f100004b4750c73a6be"
   }
  }
 },
 "nbformat": 4,
 "nbformat_minor": 2
}
