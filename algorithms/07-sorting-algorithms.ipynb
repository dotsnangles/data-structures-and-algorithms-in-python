{
 "cells": [
  {
   "cell_type": "markdown",
   "metadata": {},
   "source": [
    "## Sorting Algorithms\n",
    "\n",
    "- A Sorting Algorithm is used to **rearrange** a given **array** or **list** elements \n",
    "- according to a **comparison operator** on the elements. \n",
    "- The comparison operator is used to **decide the new order** of elements in the respective data structure."
   ]
  },
  {
   "cell_type": "markdown",
   "metadata": {},
   "source": [
    "### Sorting Terminology\n",
    "\n",
    "- An **in-place sorting** algorithm uses **constant space** for producing the output \n",
    "  - (modifies the given array only). \n",
    "- It sorts the list only by **modifying the order** of the elements within the list. \n",
    "- For example, **Insertion Sort** and **Selection Sorts** are in-place sorting algorithms \n",
    "- as they **do not use any additional space** for sorting the list \n",
    "- and a typical implementation of **Merge Sort** is **not in-place**, \n",
    "- also the implementation for **counting sort** is **not an in-place** sorting algorithm. \n",
    "- so the **auxiliary space** complexity of **non-in-place sorting algorithms** is increased by O(N) \n",
    "- where N is the number of elements on which \n",
    "- sorting has to be applied while for in-place algorithms it does not increase."
   ]
  },
  {
   "cell_type": "markdown",
   "metadata": {},
   "source": [
    "### Types Of Sorting\n",
    "\n",
    "#### Internal Sorting\n",
    "\n",
    "- **heap sort** / **bubble sort** / **selection sort** / **quick sort** / **shell sort** / **insertion sort**.\n",
    "- When all **data** is placed **in** the **main memory or internal memory** then sorting is called **internal sorting**.\n",
    "- In internal sorting, the problem **cannot** take **input beyond its size**.\n",
    "\n",
    "#### External Sorting\n",
    "\n",
    "- **Merge sort** / **Tag sort** / **Polyphase sort** / **Four tape sort** / **External radix sort** / **Internal merge sort** / etc.\n",
    "- When **all data** that needs to be sorted **cannot be** placed **in memory at a time**, \n",
    "- the sorting is called **external sorting**. External Sorting is used **for** the **massive amount of data**. \n",
    "- **Merge Sort** and **its variations** are typically used for external sorting. \n",
    "- Some **external storage** like hard disks and CDs are **used** for external sorting."
   ]
  },
  {
   "cell_type": "markdown",
   "metadata": {},
   "source": [
    "### Sort Stability\n",
    "\n",
    "- **Stability** is mainly **important when** we have key value pairs with **duplicate keys** possible \n",
    "- (like people names as keys and their details as values). And we wish to sort these objects by keys.\n",
    "- A sorting algorithm is said to be **stable if two objects with equal keys appear in the same order** in sorted output \n",
    "- as they appear in the input array to be sorted.\n",
    "<!-- Formally stability may be defined as, Let A be an array, and let < be a strict weak ordering on the elements of A. A sorting algorithm is stable if i < j\\:\\:and\\:\\:A[i]\\equiv A[j]\\:\\:implies\\:\\:\\pi (i) < \\pi (j)\n",
    "where \\pi is the sorting permutation ( sorting moves A[i] to position \\pi(i) ) -->\n",
    "- Informally, **stability** means that **equivalent elements retain their relative positions**, after sorting.\n",
    "<!-- Do we care for simple arrays like array of integers? -->\n",
    "- When **equal elements are indistinguishable**, \n",
    "- such as with integers, or more generally, \n",
    "- any data where the *entire element* is the **key**, \n",
    "- stability is not an issue. \n",
    "- **Stability** is also not an issue **if all** keys are **different**.\n",
    "\n",
    "#### Stable Sort\n",
    "\n",
    "- **merge sort** / **insertion sort** / **bubble sort**.\n",
    "- When two **same data** appear in the **same order** in sorted data \n",
    "- **without changing** their **position** is called stable sort.\n",
    "\n",
    "#### Unstable Sort\n",
    "\n",
    "- **quick sort** / **heap sort** / **shell sort**.\n",
    "- When two **same data** appear in the **different order** in sorted data it is called unstable sort."
   ]
  }
 ],
 "metadata": {
  "kernelspec": {
   "display_name": "Python 3.8.10 64-bit",
   "language": "python",
   "name": "python3"
  },
  "language_info": {
   "name": "python",
   "version": "3.8.10"
  },
  "orig_nbformat": 4,
  "vscode": {
   "interpreter": {
    "hash": "916dbcbb3f70747c44a77c7bcd40155683ae19c65e1c03b4aa3499c5328201f1"
   }
  }
 },
 "nbformat": 4,
 "nbformat_minor": 2
}
