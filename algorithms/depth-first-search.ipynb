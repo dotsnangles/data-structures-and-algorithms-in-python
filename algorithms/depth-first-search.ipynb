{
 "cells": [
  {
   "cell_type": "markdown",
   "metadata": {},
   "source": [
    "## Depth First Search"
   ]
  },
  {
   "cell_type": "markdown",
   "metadata": {},
   "source": [
    "- Depth First Traversal (or Search) for a graph is similar to Depth First Traversal of a tree.\n",
    "- The only catch here is, unlike trees, **graphs may contain cycles** (a node may be visited twice). \n",
    "- **To avoid processing a node more than once**, use a **boolean visited array**. A graph can have more than one DFS traversals."
   ]
  },
  {
   "cell_type": "markdown",
   "metadata": {},
   "source": [
    "### Approach\n",
    "\n",
    "- Depth-first search is an algorithm for **traversing or searching tree or graph** data structures. \n",
    "- The algorithm **starts at the root node** (**selecting some arbitrary node** as the root node in the case of a graph) \n",
    "- and explores as far as possible along each branch **before backtracking**. \n",
    "- So the basic idea is to **start from the root** or any arbitrary node \n",
    "- and **mark the node** \n",
    "- and **move to the adjacent unmarked node** \n",
    "- and **continue** this loop until there is no unmarked adjacent node. \n",
    "- **Then backtrack** and **check for other unmarked nodes** and traverse them. Finally, print the nodes in the path.\n",
    "\n",
    "### Algorithm\n",
    "\n",
    "- Create a **recursive function** that takes the **index of the node** and a **visited array**.\n",
    "- Mark the **current node as visited** and print the node.\n",
    "- **Traverse** all the **adjacent** and **unmarked** nodes \n",
    "- and **call the recursive function** with the **index of the adjacent** node."
   ]
  }
 ],
 "metadata": {
  "language_info": {
   "name": "python"
  },
  "orig_nbformat": 4
 },
 "nbformat": 4,
 "nbformat_minor": 2
}
