{
 "cells": [
  {
   "cell_type": "markdown",
   "metadata": {},
   "source": [
    "## Depth First Search"
   ]
  },
  {
   "cell_type": "markdown",
   "metadata": {},
   "source": [
    "- Depth First Traversal (or Search) for a graph is similar to Depth First Traversal of a tree.\n",
    "- The only catch here is, unlike trees, **graphs may contain cycles** (a node may be visited twice). \n",
    "- **To avoid processing a node more than once**, use a **boolean visited array**. A graph can have more than one DFS traversals."
   ]
  },
  {
   "cell_type": "markdown",
   "metadata": {},
   "source": [
    "### Approach\n",
    "\n",
    "- Depth-first search is an algorithm for **traversing or searching tree or graph** data structures. \n",
    "- The algorithm **starts at the root node** (**selecting some arbitrary node** as the root node in the case of a graph) \n",
    "- and **explores** as far as possible along each branch **before backtracking**. \n",
    "- So the basic idea is to **start from the root** or any arbitrary node \n",
    "- and **mark the node** \n",
    "- and **move to the adjacent unmarked node** \n",
    "- and **continue** this loop until there is no unmarked adjacent node. \n",
    "- **Then backtrack** and **check for other unmarked nodes** and traverse them. Finally, print the nodes in the path.\n",
    "\n",
    "### Algorithm\n",
    "\n",
    "- Create a **recursive function** that takes the **index of the node** and a **visited array**.\n",
    "- Mark the **current node as visited** and print the node.\n",
    "- **Traverse** all the **adjacent** and **unmarked** nodes \n",
    "- and **call the recursive function** with the **index of the adjacent** node."
   ]
  },
  {
   "cell_type": "code",
   "execution_count": 2,
   "metadata": {},
   "outputs": [],
   "source": [
    "from collections import defaultdict"
   ]
  },
  {
   "cell_type": "code",
   "execution_count": 18,
   "metadata": {},
   "outputs": [
    {
     "name": "stdout",
     "output_type": "stream",
     "text": [
      "defaultdict(<class 'int'>, {})\n",
      "defaultdict(<class 'int'>, {'one': 0})\n",
      "defaultdict(<class 'int'>, {'one': 0, 'two': 0})\n",
      "defaultdict(<class 'int'>, {'one': 0, 'two': 0, 'three': '3'})\n",
      "<class 'int'>\n",
      "<class 'int'>\n",
      "<class 'str'>\n"
     ]
    }
   ],
   "source": [
    "# ?defaultdict\n",
    "intDic = defaultdict(int)\n",
    "print(intDic)\n",
    "intDic['one']\n",
    "print(intDic)\n",
    "intDic['two']\n",
    "print(intDic)\n",
    "intDic['three'] = '3'\n",
    "print(intDic)\n",
    "\n",
    "for i in intDic.values():\n",
    "    print(type(i))"
   ]
  },
  {
   "cell_type": "code",
   "execution_count": 1,
   "metadata": {},
   "outputs": [],
   "source": [
    "from collections import defaultdict\n",
    "\n",
    "class Graph:\n",
    "\n",
    "\tdef __init__(self):\n",
    "\t\tself.graph = defaultdict(list)\n",
    "\n",
    "\tdef addEdge(self, u, v):\n",
    "\t\tself.graph[u].append(v)\n",
    "\n",
    "\tdef DFSUtil(self, v, visited):\n",
    "\t\tvisited.add(v)\n",
    "\t\tprint(v, end=' ')\n",
    "\n",
    "\t\tfor neighbour in self.graph[v]:\n",
    "\t\t\tif neighbour not in visited:\n",
    "\t\t\t\tself.DFSUtil(neighbour, visited)\n",
    "\n",
    "\tdef DFS(self, v):\n",
    "\t\tvisited = set()\n",
    "\t\tself.DFSUtil(v, visited)"
   ]
  },
  {
   "cell_type": "code",
   "execution_count": 4,
   "metadata": {},
   "outputs": [
    {
     "name": "stdout",
     "output_type": "stream",
     "text": [
      "defaultdict(<class 'list'>, {0: [1, 2], 1: [2], 2: [0, 3], 3: [3]})\n",
      "Following is DFS from (starting from vertex 2)\n",
      "2 0 1 3 "
     ]
    }
   ],
   "source": [
    "g = Graph()\n",
    "g.addEdge(0, 1)\n",
    "g.addEdge(0, 2)\n",
    "g.addEdge(1, 2)\n",
    "g.addEdge(2, 0)\n",
    "g.addEdge(2, 3)\n",
    "g.addEdge(3, 3)\n",
    "print(g.graph)\n",
    "\n",
    "print(\"Following is DFS from (starting from vertex 2)\")\n",
    "g.DFS(2)"
   ]
  },
  {
   "cell_type": "code",
   "execution_count": 5,
   "metadata": {},
   "outputs": [],
   "source": [
    "class MyGraph:\n",
    "    \n",
    "    def __init__(self) -> None:\n",
    "        self.graph = defaultdict(list)\n",
    "\n",
    "    def addEdge(self, u, v):\n",
    "        self.graph[u].append(v)\n",
    "\n",
    "    def DFSUtil(self, v, visited):\n",
    "        visited.add(v)\n",
    "        print(v, end=' ')\n",
    "\n",
    "        for neighbour in self.graph[v]:\n",
    "            if neighbour not in visited:\n",
    "                # Recursion here\n",
    "                self.DFSUtil(neighbour, visited)\n",
    "\n",
    "    def DFS(self, v):\n",
    "        print(self.graph)\n",
    "        visited = set()\n",
    "        self.DFSUtil(v, visited)"
   ]
  },
  {
   "cell_type": "code",
   "execution_count": 6,
   "metadata": {},
   "outputs": [
    {
     "name": "stdout",
     "output_type": "stream",
     "text": [
      "defaultdict(<class 'list'>, {0: [1, 2], 1: [2], 2: [0, 3], 3: [3]})\n",
      "Following is DFS from (starting from vertex 2)\n",
      "2 0 1 3 "
     ]
    }
   ],
   "source": [
    "g = MyGraph()\n",
    "g.addEdge(0, 1)\n",
    "g.addEdge(0, 2)\n",
    "g.addEdge(1, 2)\n",
    "g.addEdge(2, 0)\n",
    "g.addEdge(2, 3)\n",
    "g.addEdge(3, 3)\n",
    "print(g.graph)\n",
    "\n",
    "print(\"Following is DFS from (starting from vertex 2)\")\n",
    "g.DFS(2)"
   ]
  },
  {
   "cell_type": "markdown",
   "metadata": {},
   "source": [
    " ### Handling A Disconnected Graph\n",
    "\n",
    "### Solution\n",
    "- This will happen by handling a **corner case**. \n",
    "- The above code **traverses** only the **vertices reachable from a given source vertex**. \n",
    "- All the **vertices** may **not be reachable from a given vertex**, \n",
    "- as in a **Disconnected graph**. \n",
    "- To do a **complete DFS traversal** of such graphs, run **DFS from all unvisited nodes** ***after a DFS***. \n",
    "- The recursive function remains the same.\n",
    "\n",
    "### Algorithm\n",
    "\n",
    "- Create a **recursive function** that takes the **index of the node** and a **visited array**.\n",
    "- **Mark the current node** as **visited** and print the node.\n",
    "- **Traverse** all the **adjacent** and **unmarked** nodes \n",
    "- and **call the recursive function** with the **index of the adjacent** node.\n",
    "- Run a **loop** from 0 to the **number of vertices** \n",
    "- and **check if** the node is **unvisited** in the **previous DFS**, \n",
    "- **call the recursive function** with the **current node**."
   ]
  },
  {
   "cell_type": "code",
   "execution_count": 8,
   "metadata": {},
   "outputs": [],
   "source": [
    "from collections import defaultdict\n",
    "\n",
    "class Graph:\n",
    "\tdef __init__(self):\n",
    "\t\tself.graph = defaultdict(list)\n",
    "\n",
    "\tdef addEdge(self, u, v):\n",
    "\t\tself.graph[u].append(v)\n",
    "\n",
    "\tdef DFSUtil(self, v, visited):\n",
    "\t\tvisited.add(v)\n",
    "\t\tprint(v,end=\" \")\n",
    "\n",
    "\t\tfor neighbour in self.graph[v]:\n",
    "\t\t\tif neighbour not in visited:\n",
    "\t\t\t\tself.DFSUtil(neighbour, visited)\n",
    "\n",
    "\tdef DFS(self):\n",
    "\t\tvisited = set()\n",
    "\t\t# call the recursive helper function to print DFS traversal starting from all\n",
    "\t\t# vertices one by one\n",
    "\t\tfor vertex in self.graph:\n",
    "\t\t\tif vertex not in visited:\n",
    "\t\t\t\tself.DFSUtil(vertex, visited)"
   ]
  },
  {
   "cell_type": "code",
   "execution_count": 9,
   "metadata": {},
   "outputs": [
    {
     "name": "stdout",
     "output_type": "stream",
     "text": [
      "Following is Depth First Traversal \n",
      "\n",
      "0 1 2 3 "
     ]
    }
   ],
   "source": [
    "print(\"Following is Depth First Traversal \\n\")\n",
    "g = Graph()\n",
    "g.addEdge(0, 1)\n",
    "g.addEdge(0, 2)\n",
    "g.addEdge(1, 2)\n",
    "g.addEdge(2, 0)\n",
    "g.addEdge(2, 3)\n",
    "g.addEdge(3, 3)\n",
    "g.DFS()"
   ]
  }
 ],
 "metadata": {
  "kernelspec": {
   "display_name": "Python 3.10.4 ('dsa')",
   "language": "python",
   "name": "python3"
  },
  "language_info": {
   "codemirror_mode": {
    "name": "ipython",
    "version": 3
   },
   "file_extension": ".py",
   "mimetype": "text/x-python",
   "name": "python",
   "nbconvert_exporter": "python",
   "pygments_lexer": "ipython3",
   "version": "3.10.4"
  },
  "orig_nbformat": 4,
  "vscode": {
   "interpreter": {
    "hash": "0d6dd43efe11c094964d50703546b3f4892ad5efa9c82f100004b4750c73a6be"
   }
  }
 },
 "nbformat": 4,
 "nbformat_minor": 2
}
