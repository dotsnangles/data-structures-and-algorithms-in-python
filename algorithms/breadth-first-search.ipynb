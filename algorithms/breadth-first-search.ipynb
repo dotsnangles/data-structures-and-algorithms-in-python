{
 "cells": [
  {
   "cell_type": "markdown",
   "metadata": {},
   "source": [
    "## Breadth First Traversal\n",
    "\n",
    "- Breadth-First Traversal (or Search) for a graph is similar to Breadth-First Traversal of a tree.\n",
    "- unlike trees, **graphs may contain cycles**.\n",
    "- To **avoid** processing **a node more than once**, \n",
    "- we divide the **vertices into two** categories:\n",
    "  - Visited\n",
    "  - Not visited\n",
    "- A **boolean visited array** is used to mark the **visited** vertices. \n",
    "- For simplicity, it is **assumed** that **all vertices are reachable** from the starting vertex. \n",
    "- BFS uses a **queue** data structure for traversal."
   ]
  },
  {
   "cell_type": "markdown",
   "metadata": {},
   "source": [
    "### Algorithm\n",
    "\n",
    "- Declare a queue and insert the starting vertex.\n",
    "- Initialize a visited array and mark the starting vertex as visited.\n",
    "- Follow the below process till the queue becomes empty:\n",
    "  - Remove the first vertex of the queue.\n",
    "  - Mark that vertex as visited.\n",
    "  - Insert all the unvisited neighbours of the vertex into the queue."
   ]
  },
  {
   "cell_type": "code",
   "execution_count": 1,
   "metadata": {},
   "outputs": [],
   "source": [
    "from collections import defaultdict\n",
    "\n",
    "class Graph:\n",
    "\tdef __init__(self):\n",
    "\t\tself.graph = defaultdict(list)\n",
    "\n",
    "\tdef addEdge(self,u,v):\n",
    "\t\tself.graph[u].append(v)\n",
    "\n",
    "\tdef BFS(self, s):\n",
    "\t\tvisited = [False] * (max(self.graph) + 1)\n",
    "\t\tqueue = []\n",
    "\n",
    "\t\tqueue.append(s)\n",
    "\t\tvisited[s] = True\n",
    "\n",
    "\t\twhile queue:\n",
    "\t\t\ts = queue.pop(0)\n",
    "\t\t\tprint (s, end = \" \")\n",
    "\n",
    "\t\t\tfor i in self.graph[s]:\n",
    "\t\t\t\tif visited[i] == False:\n",
    "\t\t\t\t\tqueue.append(i)\n",
    "\t\t\t\t\tvisited[i] = True"
   ]
  },
  {
   "cell_type": "code",
   "execution_count": 3,
   "metadata": {},
   "outputs": [
    {
     "name": "stdout",
     "output_type": "stream",
     "text": [
      "Following is Breadth First Traversal (starting from vertex 2)\n",
      "2 0 3 1 "
     ]
    }
   ],
   "source": [
    "g = Graph()\n",
    "g.addEdge(0, 1)\n",
    "g.addEdge(0, 2)\n",
    "g.addEdge(1, 2)\n",
    "g.addEdge(2, 0)\n",
    "g.addEdge(2, 3)\n",
    "g.addEdge(3, 3)\n",
    "\n",
    "print (\"Following is Breadth First Traversal (starting from vertex 2)\")\n",
    "g.BFS(2)"
   ]
  },
  {
   "cell_type": "markdown",
   "metadata": {},
   "source": [
    "### BFS for Disconnected Graph\n",
    "\n",
    "- the above code traverses only the **vertices reachable from a given source vertex**. \n",
    "- In some situations, all the vertices **may not be reachable from a given vertex**. \n",
    "  - i.e. for a disconnected graph\n",
    "- **To print all** the vertices, \n",
    "- we can modify the BFS function to do **traversal starting from all nodes one by one**.\n",
    "  - Like the DFS modified version\n",
    "- Below is the implementation for BFS traversal for the entire graph with possible multiple disconnected components.\n",
    "  - valid for directed as well as undirected graphs"
   ]
  },
  {
   "cell_type": "code",
   "execution_count": 4,
   "metadata": {},
   "outputs": [],
   "source": [
    "import queue\n",
    "\n",
    "def addEdge(adj, u, v):\n",
    "\tadj[u].append(v)\n",
    "\n",
    "def BFSUtil(u, adj, visited):\n",
    "\tq = queue.Queue()\n",
    "\t\n",
    "\tvisited[u] = True\n",
    "\tq.put(u)\n",
    "\t\n",
    "\twhile(not q.empty()):\n",
    "\t\tu = q.queue[0]\n",
    "\t\tprint(u, end = \" \")\n",
    "\t\tq.get()\n",
    "\n",
    "\t\ti = 0\n",
    "\t\twhile i != len(adj[u]):\n",
    "\t\t\tif (not visited[adj[u][i]]):\n",
    "\t\t\t\t\tvisited[adj[u][i]] = True\n",
    "\t\t\t\t\tq.put(adj[u][i])\n",
    "\t\t\ti += 1\n",
    "\n",
    "def BFS(adj, V):\n",
    "\tvisited = [False] * V\n",
    "\tfor u in range(V):\n",
    "\t\tif (visited[u] == False):\n",
    "\t\t\tBFSUtil(u, adj, visited)"
   ]
  },
  {
   "cell_type": "code",
   "execution_count": 7,
   "metadata": {},
   "outputs": [
    {
     "name": "stdout",
     "output_type": "stream",
     "text": [
      "0 4 1 2 3 \n",
      " [[4], [2, 3, 4], [3], [4], []]\n"
     ]
    }
   ],
   "source": [
    "V = 5\n",
    "adj = [[] for i in range(V)]\n",
    "\n",
    "addEdge(adj, 0, 4)\n",
    "addEdge(adj, 1, 2)\n",
    "addEdge(adj, 1, 3)\n",
    "addEdge(adj, 1, 4)\n",
    "addEdge(adj, 2, 3)\n",
    "addEdge(adj, 3, 4)\n",
    "BFS(adj, V)\n",
    "print('\\n', adj)"
   ]
  }
 ],
 "metadata": {
  "kernelspec": {
   "display_name": "Python 3.10.4 ('dsa')",
   "language": "python",
   "name": "python3"
  },
  "language_info": {
   "codemirror_mode": {
    "name": "ipython",
    "version": 3
   },
   "file_extension": ".py",
   "mimetype": "text/x-python",
   "name": "python",
   "nbconvert_exporter": "python",
   "pygments_lexer": "ipython3",
   "version": "3.10.4"
  },
  "orig_nbformat": 4,
  "vscode": {
   "interpreter": {
    "hash": "0d6dd43efe11c094964d50703546b3f4892ad5efa9c82f100004b4750c73a6be"
   }
  }
 },
 "nbformat": 4,
 "nbformat_minor": 2
}
