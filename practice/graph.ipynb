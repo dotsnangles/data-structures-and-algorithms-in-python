{
 "cells": [
  {
   "cell_type": "markdown",
   "metadata": {},
   "source": [
    "## Graph"
   ]
  },
  {
   "cell_type": "markdown",
   "metadata": {},
   "source": [
    "### Adjacency Matrix"
   ]
  },
  {
   "cell_type": "code",
   "execution_count": 4,
   "metadata": {},
   "outputs": [],
   "source": [
    "class Graph:\n",
    "    def __init__(self, numvertex):\n",
    "        self.adjMatrix = [[-1]*numvertex for x in range(numvertex)]\n",
    "        self.numvertex = numvertex\n",
    "        self.vertices = {}\n",
    "        self.verticeslist = [0]*numvertex\n",
    "\n",
    "    def set_vertex(self, vtx, id):\n",
    "        if 0 <= vtx <= self.numvertex:\n",
    "            self.vertices[id] = vtx\n",
    "            self.verticeslist[vtx] = id\n",
    "\n",
    "    def set_edge(self, frm, to, cost=0):\n",
    "        frm = self.vertices[frm]\n",
    "        to = self.vertices[to]\n",
    "        self.adjMatrix[frm][to] = cost\n",
    "        self.adjMatrix[to][frm] = cost\n",
    "\n",
    "    def get_vertex(self):\n",
    "        return self.verticeslist\n",
    "\n",
    "    def get_edges(self):\n",
    "        edges = []\n",
    "        for i in range(self.numvertex):\n",
    "            for j in range(self.numvertex):\n",
    "                if (self.adjMatrix[i][j] != -1):\n",
    "                    edges.append((self.verticeslist[i], self.verticeslist[j], self.adjMatrix[i][j]))\n",
    "        return edges\n",
    "\n",
    "    def get_matrix(self):\n",
    "        return self.adjMatrix"
   ]
  },
  {
   "cell_type": "code",
   "execution_count": 16,
   "metadata": {},
   "outputs": [
    {
     "name": "stdout",
     "output_type": "stream",
     "text": [
      "Vertices of Graph\n"
     ]
    },
    {
     "data": {
      "text/plain": [
       "['a', 'b', 'c', 'd', 'e', 'f']"
      ]
     },
     "metadata": {},
     "output_type": "display_data"
    },
    {
     "name": "stdout",
     "output_type": "stream",
     "text": [
      "Edges of Graph\n"
     ]
    },
    {
     "data": {
      "text/plain": [
       "[('a', 'c', 20),\n",
       " ('a', 'e', 10),\n",
       " ('b', 'c', 30),\n",
       " ('b', 'e', 40),\n",
       " ('c', 'a', 20),\n",
       " ('c', 'b', 30),\n",
       " ('d', 'e', 50),\n",
       " ('e', 'a', 10),\n",
       " ('e', 'b', 40),\n",
       " ('e', 'd', 50),\n",
       " ('e', 'f', 60),\n",
       " ('f', 'e', 60)]"
      ]
     },
     "metadata": {},
     "output_type": "display_data"
    },
    {
     "name": "stdout",
     "output_type": "stream",
     "text": [
      "Adjacency Matrix of Graph\n"
     ]
    },
    {
     "data": {
      "text/plain": [
       "[[-1, -1, 20, -1, 10, -1],\n",
       " [-1, -1, 30, -1, 40, -1],\n",
       " [20, 30, -1, -1, -1, -1],\n",
       " [-1, -1, -1, -1, 50, -1],\n",
       " [10, 40, -1, 50, -1, 60],\n",
       " [-1, -1, -1, -1, 60, -1]]"
      ]
     },
     "metadata": {},
     "output_type": "display_data"
    }
   ],
   "source": [
    "G = Graph(6)\n",
    "G.set_vertex(0,'a')\n",
    "G.set_vertex(1,'b')\n",
    "G.set_vertex(2,'c')\n",
    "G.set_vertex(3,'d')\n",
    "G.set_vertex(4,'e')\n",
    "G.set_vertex(5,'f')\n",
    "G.set_edge('a','e',10)\n",
    "G.set_edge('a','c',20)\n",
    "G.set_edge('c','b',30)\n",
    "G.set_edge('b','e',40)\n",
    "G.set_edge('e','d',50)\n",
    "G.set_edge('f','e',60)\n",
    "\n",
    "print(\"Vertices of Graph\")\n",
    "display(G.get_vertex())\n",
    "\n",
    "print(\"Edges of Graph\")\n",
    "display(G.get_edges())\n",
    "\n",
    "print(\"Adjacency Matrix of Graph\")\n",
    "display(G.get_matrix())"
   ]
  },
  {
   "cell_type": "code",
   "execution_count": 19,
   "metadata": {},
   "outputs": [
    {
     "name": "stdout",
     "output_type": "stream",
     "text": [
      "adjMatrix\n"
     ]
    },
    {
     "data": {
      "text/plain": [
       "[[-1, -1, 20, -1, 10, -1],\n",
       " [-1, -1, 30, -1, 40, -1],\n",
       " [20, 30, -1, -1, -1, -1],\n",
       " [-1, -1, -1, -1, 50, -1],\n",
       " [10, 40, -1, 50, -1, 60],\n",
       " [-1, -1, -1, -1, 60, -1]]"
      ]
     },
     "metadata": {},
     "output_type": "display_data"
    },
    {
     "name": "stdout",
     "output_type": "stream",
     "text": [
      "\n",
      "numvertex\n"
     ]
    },
    {
     "data": {
      "text/plain": [
       "6"
      ]
     },
     "metadata": {},
     "output_type": "display_data"
    },
    {
     "name": "stdout",
     "output_type": "stream",
     "text": [
      "\n",
      "vertices\n"
     ]
    },
    {
     "data": {
      "text/plain": [
       "{'a': 0, 'b': 1, 'c': 2, 'd': 3, 'e': 4, 'f': 5}"
      ]
     },
     "metadata": {},
     "output_type": "display_data"
    },
    {
     "name": "stdout",
     "output_type": "stream",
     "text": [
      "\n",
      "verticeslist\n"
     ]
    },
    {
     "data": {
      "text/plain": [
       "['a', 'b', 'c', 'd', 'e', 'f']"
      ]
     },
     "metadata": {},
     "output_type": "display_data"
    }
   ],
   "source": [
    "print('adjMatrix')\n",
    "display(G.adjMatrix)\n",
    "print('\\nnumvertex')\n",
    "display(G.numvertex)\n",
    "print('\\nvertices')\n",
    "display(G.vertices)\n",
    "print('\\nverticeslist')\n",
    "display(G.verticeslist)"
   ]
  },
  {
   "cell_type": "code",
   "execution_count": 15,
   "metadata": {},
   "outputs": [
    {
     "data": {
      "text/plain": [
       "[[-1, -1, 20, -1, 10, -1],\n",
       " [-1, -1, 30, -1, 40, -1],\n",
       " [20, 30, -1, -1, -1, -1],\n",
       " [-1, -1, -1, -1, 50, -1],\n",
       " [10, 40, -1, 50, -1, 60],\n",
       " [-1, -1, -1, -1, 60, -1]]"
      ]
     },
     "execution_count": 15,
     "metadata": {},
     "output_type": "execute_result"
    }
   ],
   "source": [
    "G.get_matrix()"
   ]
  },
  {
   "cell_type": "code",
   "execution_count": 7,
   "metadata": {},
   "outputs": [
    {
     "data": {
      "text/plain": [
       "[[-1, -1, 20, -1, 10, -1],\n",
       " [-1, -1, 30, -1, 40, -1],\n",
       " [20, 30, -1, -1, -1, -1],\n",
       " [-1, -1, -1, -1, 50, -1],\n",
       " [10, 40, -1, 50, -1, 60],\n",
       " [-1, -1, -1, -1, 60, -1]]"
      ]
     },
     "execution_count": 7,
     "metadata": {},
     "output_type": "execute_result"
    }
   ],
   "source": [
    "G.adjMatrix"
   ]
  },
  {
   "cell_type": "code",
   "execution_count": 9,
   "metadata": {},
   "outputs": [
    {
     "data": {
      "text/plain": [
       "[[-1, -1, -1, -1, -1, -1],\n",
       " [-1, -1, -1, -1, -1, -1],\n",
       " [-1, -1, -1, -1, -1, -1],\n",
       " [-1, -1, -1, -1, -1, -1],\n",
       " [-1, -1, -1, -1, -1, -1],\n",
       " [-1, -1, -1, -1, -1, -1]]"
      ]
     },
     "execution_count": 9,
     "metadata": {},
     "output_type": "execute_result"
    }
   ],
   "source": [
    "[[-1]*6 for x in range(6)]"
   ]
  },
  {
   "cell_type": "code",
   "execution_count": 20,
   "metadata": {},
   "outputs": [
    {
     "data": {
      "text/plain": [
       "[1, 1, 1]"
      ]
     },
     "execution_count": 20,
     "metadata": {},
     "output_type": "execute_result"
    }
   ],
   "source": [
    "[1]*3"
   ]
  },
  {
   "cell_type": "markdown",
   "metadata": {},
   "source": [
    "### Adjacency List"
   ]
  },
  {
   "cell_type": "code",
   "execution_count": 30,
   "metadata": {},
   "outputs": [],
   "source": [
    "class AdjNode:\n",
    "    def __init__(self, data):\n",
    "        self.vertex = data\n",
    "        self.next = None\n",
    "\n",
    "class Graph:\n",
    "    def __init__(self, vertices):\n",
    "        self.V = vertices\n",
    "        self.graph = [None] * self.V\n",
    "\n",
    "    def add_edge(self, src, dest):\n",
    "        node = AdjNode(dest)\n",
    "        node.next = self.graph[src]\n",
    "        self.graph[src] = node\n",
    "\n",
    "        node = AdjNode(src)\n",
    "        node.next = self.graph[dest]\n",
    "        self.graph[dest] = node\n",
    "\n",
    "    def print_graph(self):\n",
    "        for i in range(self.V):\n",
    "            print(\"Adjacency list of vertex {}\\n head\".format(i), end='')\n",
    "            temp = self.graph[i]\n",
    "            while temp:\n",
    "                print(' -> {}'.format(temp.vertex), end='')\n",
    "                temp = temp.next\n",
    "            print(' \\n')"
   ]
  },
  {
   "cell_type": "code",
   "execution_count": 31,
   "metadata": {},
   "outputs": [],
   "source": [
    "\tV = 5\n",
    "\tgraph = Graph(V)\n",
    "\tgraph.add_edge(0, 1)\n",
    "\tgraph.add_edge(0, 4)\n",
    "\tgraph.add_edge(1, 2)\n",
    "\tgraph.add_edge(1, 3)\n",
    "\tgraph.add_edge(1, 4)\n",
    "\tgraph.add_edge(2, 3)\n",
    "\tgraph.add_edge(3, 4)\n",
    "\n",
    "\t# graph.print_graph()"
   ]
  },
  {
   "cell_type": "code",
   "execution_count": 32,
   "metadata": {},
   "outputs": [
    {
     "name": "stdout",
     "output_type": "stream",
     "text": [
      "Adjacency list of vertex 0\n",
      " head -> 4 -> 1 \n",
      "\n",
      "Adjacency list of vertex 1\n",
      " head -> 4 -> 3 -> 2 -> 0 \n",
      "\n",
      "Adjacency list of vertex 2\n",
      " head -> 3 -> 1 \n",
      "\n",
      "Adjacency list of vertex 3\n",
      " head -> 4 -> 2 -> 1 \n",
      "\n",
      "Adjacency list of vertex 4\n",
      " head -> 3 -> 1 -> 0 \n",
      "\n"
     ]
    }
   ],
   "source": [
    "graph.print_graph()"
   ]
  }
 ],
 "metadata": {
  "kernelspec": {
   "display_name": "Python 3.8.10 64-bit",
   "language": "python",
   "name": "python3"
  },
  "language_info": {
   "codemirror_mode": {
    "name": "ipython",
    "version": 3
   },
   "file_extension": ".py",
   "mimetype": "text/x-python",
   "name": "python",
   "nbconvert_exporter": "python",
   "pygments_lexer": "ipython3",
   "version": "3.8.10"
  },
  "orig_nbformat": 4,
  "vscode": {
   "interpreter": {
    "hash": "916dbcbb3f70747c44a77c7bcd40155683ae19c65e1c03b4aa3499c5328201f1"
   }
  }
 },
 "nbformat": 4,
 "nbformat_minor": 2
}
