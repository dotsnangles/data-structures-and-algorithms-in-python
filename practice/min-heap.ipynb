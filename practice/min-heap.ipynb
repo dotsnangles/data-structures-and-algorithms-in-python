{
 "cells": [
  {
   "cell_type": "code",
   "execution_count": 7,
   "metadata": {},
   "outputs": [
    {
     "data": {
      "text/plain": [
       "9223372036854775807"
      ]
     },
     "execution_count": 7,
     "metadata": {},
     "output_type": "execute_result"
    }
   ],
   "source": [
    "sys.maxsize"
   ]
  },
  {
   "cell_type": "code",
   "execution_count": 8,
   "metadata": {},
   "outputs": [],
   "source": [
    "import sys\n",
    "\n",
    "class MinHeap:\n",
    "\n",
    "    def __init__(self, maxsize):\n",
    "        self.maxsize = maxsize\n",
    "        self.size = 0\n",
    "        self.Heap = [0]*(self.maxsize + 1)\n",
    "        self.Heap[0] = -1 * sys.maxsize\n",
    "        self.FRONT = 1\n",
    "\n",
    "    def parent(self, pos):\n",
    "        return pos // 2\n",
    "\n",
    "    def leftChild(self, pos):\n",
    "        return 2 * pos\n",
    "\n",
    "    def rightChild(self, pos):\n",
    "        return (2 * pos) + 1\n",
    "\n",
    "    def isLeaf(self, pos):\n",
    "        return pos * 2 > self.size\n",
    "\n",
    "    def isLeaf(self, pos):\n",
    "        return pos * 2 > self.size\n",
    "\n",
    "    def swap(self, fpos, spos):\n",
    "        self.Heap[fpos], self.Heap[spos] = self.Heap[spos], self.Heap[fpos]\n",
    "\n",
    "    def minHeapify(self, pos):\n",
    "\n",
    "        if not self.isLeaf(pos):\n",
    "            if (self.Heap[pos] > self.Heap[self.leftChild(pos)] or self.Heap[pos] > self.Heap[self.rightChild(pos)])\n",
    "\n",
    "                if self.Heap[self.leftChild(pos) < self.Heap[self.rightChild(pos)]]:\n",
    "                    self.swap(pos, self.leftChild(pos))\n",
    "                    self.minHeapify(self.leftChild(pos))\n",
    "\n",
    "                else:\n",
    "                    self.swap(pos, self.rightChild(pos))\n",
    "                    self.minHeapify(self.rightChild(pos))\n",
    "\n",
    "    def"
   ]
  },
  {
   "cell_type": "code",
   "execution_count": null,
   "metadata": {},
   "outputs": [],
   "source": []
  }
 ],
 "metadata": {
  "kernelspec": {
   "display_name": "Python 3.9.12 ('base')",
   "language": "python",
   "name": "python3"
  },
  "language_info": {
   "codemirror_mode": {
    "name": "ipython",
    "version": 3
   },
   "file_extension": ".py",
   "mimetype": "text/x-python",
   "name": "python",
   "nbconvert_exporter": "python",
   "pygments_lexer": "ipython3",
   "version": "3.9.12"
  },
  "orig_nbformat": 4,
  "vscode": {
   "interpreter": {
    "hash": "8763e5ea16b716ad1eeffeab5f34109bd722594d0305e114e3d37565ed57b2a4"
   }
  }
 },
 "nbformat": 4,
 "nbformat_minor": 2
}
