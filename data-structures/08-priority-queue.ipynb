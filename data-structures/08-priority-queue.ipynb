{
 "cells": [
  {
   "cell_type": "markdown",
   "metadata": {},
   "source": [
    "## Priority Queue"
   ]
  },
  {
   "cell_type": "markdown",
   "metadata": {},
   "source": [
    "- An element with high priority is dequeued before an element with low priority.\n",
    "- If two elements have the same priority, they are served according to their order in the queue."
   ]
  },
  {
   "cell_type": "code",
   "execution_count": 2,
   "metadata": {},
   "outputs": [
    {
     "name": "stdout",
     "output_type": "stream",
     "text": [
      "12 1 14 7\n",
      "14\n",
      "12\n",
      "7\n",
      "1\n"
     ]
    }
   ],
   "source": [
    "# A simple implementation of Priority Queue\n",
    "# using Queue.\n",
    "class PriorityQueue(object):\n",
    "\tdef __init__(self):\n",
    "\t\tself.queue = []\n",
    "\n",
    "\tdef __str__(self):\n",
    "\t\treturn ' '.join([str(i) for i in self.queue])\n",
    "\n",
    "\t# for checking if the queue is empty\n",
    "\tdef isEmpty(self):\n",
    "\t\treturn len(self.queue) == 0\n",
    "\n",
    "\t# for inserting an element in the queue\n",
    "\tdef insert(self, data):\n",
    "\t\tself.queue.append(data)\n",
    "\n",
    "\t# for popping an element based on Priority\n",
    "\tdef delete(self):\n",
    "\t\ttry:\n",
    "\t\t\tmax = 0\n",
    "\t\t\tfor i in range(len(self.queue)):\n",
    "\t\t\t\tif self.queue[i] > self.queue[max]:\n",
    "\t\t\t\t\tmax = i\n",
    "\t\t\titem = self.queue[max]\n",
    "\t\t\tdel self.queue[max]\n",
    "\t\t\treturn item\n",
    "\t\texcept IndexError:\n",
    "\t\t\tprint()\n",
    "\t\t\texit()\n",
    "\n",
    "if __name__ == '__main__':\n",
    "\tmyQueue = PriorityQueue()\n",
    "\tmyQueue.insert(12)\n",
    "\tmyQueue.insert(1)\n",
    "\tmyQueue.insert(14)\n",
    "\tmyQueue.insert(7)\n",
    "\tprint(myQueue)\t\t\n",
    "\twhile not myQueue.isEmpty():\n",
    "\t\tprint(myQueue.delete())"
   ]
  },
  {
   "cell_type": "code",
   "execution_count": 8,
   "metadata": {},
   "outputs": [],
   "source": [
    "pqueue = PriorityQueue()"
   ]
  },
  {
   "cell_type": "code",
   "execution_count": 9,
   "metadata": {},
   "outputs": [
    {
     "name": "stdout",
     "output_type": "stream",
     "text": [
      "1 14 3 25\n"
     ]
    }
   ],
   "source": [
    "pqueue.insert(1)\n",
    "pqueue.insert(14)\n",
    "pqueue.insert(3)\n",
    "pqueue.insert(25)\n",
    "\n",
    "print(pqueue)"
   ]
  },
  {
   "cell_type": "code",
   "execution_count": 10,
   "metadata": {},
   "outputs": [
    {
     "data": {
      "text/plain": [
       "25"
      ]
     },
     "execution_count": 10,
     "metadata": {},
     "output_type": "execute_result"
    }
   ],
   "source": [
    "pqueue.delete()"
   ]
  },
  {
   "cell_type": "code",
   "execution_count": 11,
   "metadata": {},
   "outputs": [
    {
     "name": "stdout",
     "output_type": "stream",
     "text": [
      "1 14 3\n"
     ]
    }
   ],
   "source": [
    "print(pqueue)"
   ]
  }
 ],
 "metadata": {
  "kernelspec": {
   "display_name": "Python 3.9.12 ('base')",
   "language": "python",
   "name": "python3"
  },
  "language_info": {
   "codemirror_mode": {
    "name": "ipython",
    "version": 3
   },
   "file_extension": ".py",
   "mimetype": "text/x-python",
   "name": "python",
   "nbconvert_exporter": "python",
   "pygments_lexer": "ipython3",
   "version": "3.9.12"
  },
  "orig_nbformat": 4,
  "vscode": {
   "interpreter": {
    "hash": "8763e5ea16b716ad1eeffeab5f34109bd722594d0305e114e3d37565ed57b2a4"
   }
  }
 },
 "nbformat": 4,
 "nbformat_minor": 2
}
