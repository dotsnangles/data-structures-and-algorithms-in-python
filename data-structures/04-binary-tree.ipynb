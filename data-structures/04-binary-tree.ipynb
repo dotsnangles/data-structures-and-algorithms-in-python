{
 "cells": [
  {
   "cell_type": "markdown",
   "metadata": {},
   "source": [
    "## Binary Tree"
   ]
  },
  {
   "cell_type": "markdown",
   "metadata": {},
   "source": [
    "- A binary tree is a tree whose elements can have at most two children. \n",
    "- Since each element in a binary tree can have only 2 children, we typically name them the left and right children. A Binary Tree node contains the following parts.\n",
    "- Data\n",
    "- Pointer to left child\n",
    "- Pointer to the right child"
   ]
  },
  {
   "cell_type": "code",
   "execution_count": 3,
   "metadata": {},
   "outputs": [],
   "source": [
    "# A Python class that represents an individual node\n",
    "# in a Binary Tree\n",
    "class Node:\n",
    "\tdef __init__(self,key):\n",
    "\t\tself.left = None\n",
    "\t\tself.right = None\n",
    "\t\tself.val = key"
   ]
  },
  {
   "cell_type": "code",
   "execution_count": 4,
   "metadata": {},
   "outputs": [
    {
     "data": {
      "text/plain": [
       "'4 becomes left child of 2\\n\\t\\t1\\n\\t/\\t \\t2\\t\\t 3\\n\\t/ \\\\\\t / 4 None None None\\n/ None None'"
      ]
     },
     "execution_count": 4,
     "metadata": {},
     "output_type": "execute_result"
    }
   ],
   "source": [
    "# Python program to introduce Binary Tree\n",
    "\n",
    "# A class that represents an individual node in a\n",
    "# Binary Tree\n",
    "class Node:\n",
    "\tdef __init__(self,key):\n",
    "\t\tself.left = None\n",
    "\t\tself.right = None\n",
    "\t\tself.val = key\n",
    "\n",
    "\n",
    "# create root\n",
    "root = Node(1)\n",
    "''' following is the tree after above statement\n",
    "\t\t1\n",
    "\t/ \\\n",
    "\tNone None'''\n",
    "\n",
    "root.left\t = Node(2);\n",
    "root.right\t = Node(3);\n",
    "\n",
    "''' 2 and 3 become left and right children of 1\n",
    "\t\t1\n",
    "\t\t/ \\\n",
    "\t\t2\t 3\n",
    "\t/ \\ / \\\n",
    "None None None None'''\n",
    "\n",
    "\n",
    "root.left.left = Node(4);\n",
    "'''4 becomes left child of 2\n",
    "\t\t1\n",
    "\t/\t \\\n",
    "\t2\t\t 3\n",
    "\t/ \\\t / \\\n",
    "4 None None None\n",
    "/ \\\n",
    "None None'''\n"
   ]
  },
  {
   "cell_type": "code",
   "execution_count": null,
   "metadata": {},
   "outputs": [],
   "source": [
    "#      tree\n",
    "#     ----\n",
    "#      1    <-- root\n",
    "#    /   \\\n",
    "#   2     3  \n",
    "#  / \\\n",
    "# 4   5"
   ]
  },
  {
   "cell_type": "markdown",
   "metadata": {},
   "source": [
    "### Tree Traversal\n",
    "\n",
    "- Trees can be traversed in different ways.\n",
    "\n",
    "#### Depth First Traversals:\n",
    "\n",
    "- Inorder (Left, Root, Right) : 4 2 5 1 3\n",
    "- Preorder (Root, Left, Right) : 1 2 4 5 3\n",
    "- Postorder (Left, Right, Root) : 4 5 2 3 1\n",
    "\n",
    "#### Algorithm Inorder(tree)\n",
    "\n",
    "- Traverse the left subtree, i.e., call Inorder(left-subtree)\n",
    "- Visit the root.\n",
    "- Traverse the right subtree, i.e., call Inorder(right-subtree)\n",
    "\n",
    "#### Algorithm Preorder(tree)\n",
    "\n",
    "- Visit the root.\n",
    "- Traverse the left subtree, i.e., call Preorder(left-subtree)\n",
    "- Traverse the right subtree, i.e., call Preorder(right-subtree)\n",
    "\n",
    "#### Algorithm Postorder(tree)\n",
    "\n",
    "- Traverse the left subtree, i.e., call Postorder(left-subtree)\n",
    "- Traverse the right subtree, i.e., call Postorder(right-subtree)\n",
    "- Visit the root."
   ]
  },
  {
   "cell_type": "code",
   "execution_count": 6,
   "metadata": {},
   "outputs": [
    {
     "name": "stdout",
     "output_type": "stream",
     "text": [
      "Preorder traversal of binary tree is\n",
      "1\n",
      "2\n",
      "4\n",
      "5\n",
      "3\n",
      "\n",
      "Inorder traversal of binary tree is\n",
      "4\n",
      "2\n",
      "5\n",
      "1\n",
      "3\n",
      "\n",
      "Postorder traversal of binary tree is\n",
      "4\n",
      "5\n",
      "2\n",
      "3\n",
      "1\n"
     ]
    }
   ],
   "source": [
    "# Python program to for tree traversals\n",
    "\n",
    "# A class that represents an individual node in a\n",
    "# Binary Tree\n",
    "class Node:\n",
    "\tdef __init__(self, key):\n",
    "\t\tself.left = None\n",
    "\t\tself.right = None\n",
    "\t\tself.val = key\n",
    "\n",
    "\n",
    "# A function to do inorder tree traversal\n",
    "def printInorder(root):\n",
    "\n",
    "\tif root:\n",
    "\n",
    "\t\t# First recur on left child\n",
    "\t\tprintInorder(root.left)\n",
    "\n",
    "\t\t# then print the data of node\n",
    "\t\tprint(root.val),\n",
    "\n",
    "\t\t# now recur on right child\n",
    "\t\tprintInorder(root.right)\n",
    "\n",
    "\n",
    "# A function to do postorder tree traversal\n",
    "def printPostorder(root):\n",
    "\n",
    "\tif root:\n",
    "\n",
    "\t\t# First recur on left child\n",
    "\t\tprintPostorder(root.left)\n",
    "\n",
    "\t\t# the recur on right child\n",
    "\t\tprintPostorder(root.right)\n",
    "\n",
    "\t\t# now print the data of node\n",
    "\t\tprint(root.val),\n",
    "\n",
    "\n",
    "# A function to do preorder tree traversal\n",
    "def printPreorder(root):\n",
    "\n",
    "\tif root:\n",
    "\n",
    "\t\t# First print the data of node\n",
    "\t\tprint(root.val),\n",
    "\n",
    "\t\t# Then recur on left child\n",
    "\t\tprintPreorder(root.left)\n",
    "\n",
    "\t\t# Finally recur on right child\n",
    "\t\tprintPreorder(root.right)\n",
    "\n",
    "\n",
    "# Driver code\n",
    "root = Node(1)\n",
    "root.left = Node(2)\n",
    "root.right = Node(3)\n",
    "root.left.left = Node(4)\n",
    "root.left.right = Node(5)\n",
    "print(\"Preorder traversal of binary tree is\")\n",
    "printPreorder(root)\n",
    "\n",
    "print(\"\\nInorder traversal of binary tree is\")\n",
    "printInorder(root)\n",
    "\n",
    "print(\"\\nPostorder traversal of binary tree is\")\n",
    "printPostorder(root)\n"
   ]
  },
  {
   "cell_type": "markdown",
   "metadata": {},
   "source": [
    "### Breadth-First or Level Order Traversal\n",
    "\n",
    "Level order traversal of a tree is breadth-first traversal for the tree. The level order traversal of the above tree is 1 2 3 4 5.\n",
    "For each node, first, the node is visited and then its child nodes are put in a FIFO queue. Below is the algorithm for the same –\n",
    "\n",
    "- Create an empty queue q\n",
    "- temp_node = root /*start from root*/\n",
    "- Loop while temp_node is not NULL\n",
    "  - print temp_node->data.\n",
    "  - Enqueue temp_node’s children (first left then right children) to q\n",
    "  - Dequeue a node from q"
   ]
  },
  {
   "cell_type": "code",
   "execution_count": 7,
   "metadata": {},
   "outputs": [
    {
     "name": "stdout",
     "output_type": "stream",
     "text": [
      "Level Order Traversal of binary tree is -\n",
      "1\n",
      "2\n",
      "3\n",
      "4\n",
      "5\n"
     ]
    }
   ],
   "source": [
    "# Python program to print level\n",
    "# order traversal using Queue\n",
    "\n",
    "# A node structure\n",
    "class Node:\n",
    "\n",
    "\t# A utility function to create a new node\n",
    "\tdef __init__(self ,key):\n",
    "\t\tself.data = key\n",
    "\t\tself.left = None\n",
    "\t\tself.right = None\n",
    "\n",
    "# Iterative Method to print the\n",
    "# height of a binary tree\n",
    "def printLevelOrder(root):\n",
    "\n",
    "\t# Base Case\n",
    "\tif root is None:\n",
    "\t\treturn\n",
    "\t\n",
    "\t# Create an empty queue\n",
    "\t# for level order traversal\n",
    "\tqueue = []\n",
    "\n",
    "\t# Enqueue Root and initialize height\n",
    "\tqueue.append(root)\n",
    "\n",
    "\twhile(len(queue) > 0):\n",
    "\t\n",
    "\t\t# Print front of queue and\n",
    "\t\t# remove it from queue\n",
    "\t\tprint (queue[0].data)\n",
    "\t\tnode = queue.pop(0)\n",
    "\n",
    "\t\t# Enqueue left child\n",
    "\t\tif node.left is not None:\n",
    "\t\t\tqueue.append(node.left)\n",
    "\n",
    "\t\t# Enqueue right child\n",
    "\t\tif node.right is not None:\n",
    "\t\t\tqueue.append(node.right)\n",
    "\n",
    "# Driver Program to test above function\n",
    "root = Node(1)\n",
    "root.left = Node(2)\n",
    "root.right = Node(3)\n",
    "root.left.left = Node(4)\n",
    "root.left.right = Node(5)\n",
    "\n",
    "print (\"Level Order Traversal of binary tree is -\")\n",
    "printLevelOrder(root)"
   ]
  },
  {
   "cell_type": "code",
   "execution_count": null,
   "metadata": {},
   "outputs": [],
   "source": []
  }
 ],
 "metadata": {
  "kernelspec": {
   "display_name": "Python 3.9.12 ('base')",
   "language": "python",
   "name": "python3"
  },
  "language_info": {
   "codemirror_mode": {
    "name": "ipython",
    "version": 3
   },
   "file_extension": ".py",
   "mimetype": "text/x-python",
   "name": "python",
   "nbconvert_exporter": "python",
   "pygments_lexer": "ipython3",
   "version": "3.9.12"
  },
  "orig_nbformat": 4,
  "vscode": {
   "interpreter": {
    "hash": "8763e5ea16b716ad1eeffeab5f34109bd722594d0305e114e3d37565ed57b2a4"
   }
  }
 },
 "nbformat": 4,
 "nbformat_minor": 2
}
