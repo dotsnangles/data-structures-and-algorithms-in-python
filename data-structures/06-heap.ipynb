{
 "cells": [
  {
   "cell_type": "markdown",
   "metadata": {},
   "source": [
    "## Heap\n",
    "\n",
    "### What is Heap Data Structure?\n",
    "\n",
    "- A Heap is a special Tree-based data structure \n",
    "- in which the tree is a **complete binary tree**.\n",
    "\n",
    "### Operations of Heap Data Structure\n",
    "- **Heapify**\n",
    "  - a process of **creating a heap from an array**.\n",
    "- **Insertion**\n",
    "  - process to **insert an element** in existing heap time complexity O(log N).\n",
    "- **Deletion**\n",
    "  - **deleting the top element** of the heap **or the highest priority** element, \n",
    "  - **and then organizing** the heap **and returning the element** with time complexity O(log N).\n",
    "- **Peek**\n",
    "  - to **check or find** the most prior element in the heap, (max or min element for max and min heap).\n",
    "\n",
    "### Types of Heap Data Structure\n",
    "\n",
    "- Generally, Heaps can be of two types\n",
    "- **Max-Heap**\n",
    "  - the **key** present at the **root** node **must be greatest** among the keys present at all of it’s children. \n",
    "  - The **same property** must be **recursively true** for all sub-trees in that Binary Tree.\n",
    "- **Min-Heap**\n",
    "  - the **key** present at the **root** node **must be minimum** among the keys present at all of it’s children. \n",
    "  - The **same property** must be **recursively true** for all sub-trees in that Binary Tree."
   ]
  },
  {
   "cell_type": "markdown",
   "metadata": {},
   "source": [
    "### heapq module in Python\n",
    "\n",
    "- **heapq module in Python** provides the heap data structure that is mainly used to represent a priority queue. The property of this data structure is that it always gives the smallest element (min heap) whenever the element is popped.\n",
    "- **Max-Heap**: In a Max-Heap the key present at the root node must be greatest among the keys present at all of it’s children. The same property must be recursively true for all sub-trees in that Binary Tree.\n",
    "- **Min-Heap**: In a Min-Heap the key present at the root node must be minimum among the keys present at all of it’s children. The same property must be recursively true for all sub-trees in that Binary Tree."
   ]
  },
  {
   "cell_type": "code",
   "execution_count": 1,
   "metadata": {},
   "outputs": [
    {
     "name": "stdout",
     "output_type": "stream",
     "text": [
      "The created heap is : [1, 3, 9, 7, 5]\n",
      "The modified heap after push is : [1, 3, 4, 7, 5, 9]\n",
      "The popped and smallest element is : 1\n"
     ]
    }
   ],
   "source": [
    "# importing \"heapq\" to implement heap queue\n",
    "import heapq\n",
    "\n",
    "# initializing list\n",
    "li = [5, 7, 9, 1, 3]\n",
    "\n",
    "# using heapify to convert list into heap\n",
    "heapq.heapify(li)\n",
    "\n",
    "# printing created heap\n",
    "print (\"The created heap is : \",end=\"\")\n",
    "print (list(li))\n",
    "\n",
    "# using heappush() to push elements into heap\n",
    "# pushes 4\n",
    "heapq.heappush(li,4)\n",
    "\n",
    "# printing modified heap\n",
    "print (\"The modified heap after push is : \",end=\"\")\n",
    "print (list(li))\n",
    "\n",
    "# using heappop() to pop smallest element\n",
    "print (\"The popped and smallest element is : \",end=\"\")\n",
    "print (heapq.heappop(li))"
   ]
  },
  {
   "cell_type": "code",
   "execution_count": null,
   "metadata": {},
   "outputs": [],
   "source": []
  }
 ],
 "metadata": {
  "kernelspec": {
   "display_name": "Python 3.10.4 ('dsa')",
   "language": "python",
   "name": "python3"
  },
  "language_info": {
   "codemirror_mode": {
    "name": "ipython",
    "version": 3
   },
   "file_extension": ".py",
   "mimetype": "text/x-python",
   "name": "python",
   "nbconvert_exporter": "python",
   "pygments_lexer": "ipython3",
   "version": "3.10.4"
  },
  "orig_nbformat": 4,
  "vscode": {
   "interpreter": {
    "hash": "0d6dd43efe11c094964d50703546b3f4892ad5efa9c82f100004b4750c73a6be"
   }
  }
 },
 "nbformat": 4,
 "nbformat_minor": 2
}
