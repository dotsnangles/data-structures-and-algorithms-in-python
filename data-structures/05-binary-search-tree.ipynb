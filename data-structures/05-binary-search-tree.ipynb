{
 "cells": [
  {
   "cell_type": "markdown",
   "metadata": {},
   "source": [
    "## Binary Search Tree"
   ]
  },
  {
   "cell_type": "markdown",
   "metadata": {},
   "source": [
    "### Left is Lesser! Right is Greater!"
   ]
  },
  {
   "cell_type": "markdown",
   "metadata": {},
   "source": [
    "- The left subtree of a node contains only nodes with keys lesser than the node’s key.\n",
    "- The right subtree of a node contains only nodes with keys greater than the node’s key.\n",
    "- The left and right subtree each must also be a binary search tree."
   ]
  },
  {
   "cell_type": "markdown",
   "metadata": {},
   "source": [
    "### Searching Element\n",
    "\n",
    "- Start from the root.\n",
    "- Compare the searching element with root, if less than root, then recurse for left, else recurse for right.\n",
    "- If the element to search is found anywhere, return true, else return false."
   ]
  },
  {
   "cell_type": "code",
   "execution_count": 1,
   "metadata": {},
   "outputs": [],
   "source": [
    "# A utility function to search a given key in BST\n",
    "def search(root,key):\n",
    "\t\n",
    "\t# Base Cases: root is null or key is present at root\n",
    "\tif root is None or root.val == key:\n",
    "\t\treturn root\n",
    "\n",
    "\t# Key is greater than root's key\n",
    "\tif root.val < key:\n",
    "\t\treturn search(root.right,key)\n",
    "\n",
    "\t# Key is smaller than root's key\n",
    "\treturn search(root.left,key)"
   ]
  },
  {
   "cell_type": "markdown",
   "metadata": {},
   "source": [
    "### Insertion of a key \n",
    "\n",
    "- Start from the root.\n",
    "- Compare the inserting element with root, if less than root, then recurse for left, else recurse for right.\n",
    "- After reaching the end, just insert that node at left(if less than current) else right."
   ]
  },
  {
   "cell_type": "code",
   "execution_count": 2,
   "metadata": {},
   "outputs": [
    {
     "name": "stdout",
     "output_type": "stream",
     "text": [
      "20\n",
      "30\n",
      "40\n",
      "50\n",
      "60\n",
      "70\n",
      "80\n"
     ]
    }
   ],
   "source": [
    "# Python program to demonstrate\n",
    "# insert operation in binary search tree\n",
    "\n",
    "# A utility class that represents\n",
    "# an individual node in a BST\n",
    "class Node:\n",
    "\tdef __init__(self, key):\n",
    "\t\tself.left = None\n",
    "\t\tself.right = None\n",
    "\t\tself.val = key\n",
    "\n",
    "# A utility function to insert\n",
    "# a new node with the given key\n",
    "def insert(root, key):\n",
    "\tif root is None:\n",
    "\t\treturn Node(key)\n",
    "\telse:\n",
    "\t\tif root.val == key:\n",
    "\t\t\treturn root\n",
    "\t\telif root.val < key:\n",
    "\t\t\troot.right = insert(root.right, key)\n",
    "\t\telse:\n",
    "\t\t\troot.left = insert(root.left, key)\n",
    "\treturn root\n",
    "\n",
    "# A utility function to do inorder tree traversal\n",
    "def inorder(root):\n",
    "\tif root:\n",
    "\t\tinorder(root.left)\n",
    "\t\tprint(root.val)\n",
    "\t\tinorder(root.right)\n",
    "\n",
    "\n",
    "# Driver program to test the above functions\n",
    "# Let us create the following BST\n",
    "# 50\n",
    "# /\t \\\n",
    "# 30\t 70\n",
    "# / \\ / \\\n",
    "# 20 40 60 80\n",
    "\n",
    "r = Node(50)\n",
    "r = insert(r, 30)\n",
    "r = insert(r, 20)\n",
    "r = insert(r, 40)\n",
    "r = insert(r, 70)\n",
    "r = insert(r, 60)\n",
    "r = insert(r, 80)\n",
    "\n",
    "# Print inorder traversal of the BST\n",
    "inorder(r)"
   ]
  },
  {
   "cell_type": "code",
   "execution_count": null,
   "metadata": {},
   "outputs": [],
   "source": []
  }
 ],
 "metadata": {
  "kernelspec": {
   "display_name": "Python 3.9.12 ('base')",
   "language": "python",
   "name": "python3"
  },
  "language_info": {
   "codemirror_mode": {
    "name": "ipython",
    "version": 3
   },
   "file_extension": ".py",
   "mimetype": "text/x-python",
   "name": "python",
   "nbconvert_exporter": "python",
   "pygments_lexer": "ipython3",
   "version": "3.9.12"
  },
  "orig_nbformat": 4,
  "vscode": {
   "interpreter": {
    "hash": "8763e5ea16b716ad1eeffeab5f34109bd722594d0305e114e3d37565ed57b2a4"
   }
  }
 },
 "nbformat": 4,
 "nbformat_minor": 2
}
