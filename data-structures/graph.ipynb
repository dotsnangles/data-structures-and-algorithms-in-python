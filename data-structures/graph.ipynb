{
 "cells": [
  {
   "cell_type": "markdown",
   "metadata": {},
   "source": [
    "### Tree / Graph Comparison"
   ]
  },
  {
   "cell_type": "markdown",
   "metadata": {},
   "source": [
    "| The basis of Comparison | Graph | Tree |\n",
    "| :---: | :---: | :---: |\n",
    "| Definition | Graph is a non-linear data structure. | Tree is a non-linear data structure. |\n",
    "| Structure | It is a collection of vertices/nodes and edges. | It is a collection of nodes and edges. |\n",
    "| Edges | Each node can have any number of edges. | If there is n nodes then there would be n-1 number of edges |\n",
    "| Types of Edges | They can be directed or undirected | They are always directed |\n",
    "| Root node | There is no unique node called root in graph.\tThere is a unique node called root(parent) node in trees. |\n",
    "| Loop Formation | A cycle can be formed. | There will not be any cycle. |\n",
    "| Traversal | For graph traversal, we use Breadth-First Search (BFS), and Depth-First Search (DFS). | We traverse a tree using in-order, pre-order, or post-order traversal methods. |\n",
    "| Applications | For finding shortest path in networking graph is used.\t| For game trees, decision trees, the tree is used. |"
   ]
  },
  {
   "cell_type": "markdown",
   "metadata": {},
   "source": [
    "- A graph is a nonlinear data structure consisting of nodes and edges. \n",
    "- The nodes are sometimes also referred to as vertices and the edges are lines or arcs that connect any two nodes in the graph. \n",
    "- More formally a Graph can be defined as a Graph consisting of a finite set of vertices(or nodes) and a set of edges that connect a pair of nodes.\n",
    "- the most commonly used representations of a graph:\n",
    "  - Adjacency Matrix\n",
    "  - Adjacency List"
   ]
  },
  {
   "cell_type": "markdown",
   "metadata": {},
   "source": [
    "### Adjacency Matrix\n",
    "\n",
    "- Adjacency Matrix is a 2D array of size V x V where V is the number of vertices in a graph.\n",
    "- Let the 2D array be adj[][], a slot adj[i][j] = 1 indicates that there is an edge from vertex i to vertex j.\n",
    "- The adjacency matrix for an undirected graph is always symmetric.\n",
    "- Adjacency Matrix is also used to represent weighted graphs. If adj[i][j] = w, then there is an edge from vertex i to vertex j with weight w."
   ]
  },
  {
   "cell_type": "code",
   "execution_count": 3,
   "metadata": {},
   "outputs": [
    {
     "name": "stdout",
     "output_type": "stream",
     "text": [
      "Vertices of Graph\n",
      "['a', 'b', 'c', 'd', 'e', 'f']\n",
      "Edges of Graph\n",
      "[('a', 'c', 20), ('a', 'e', 10), ('b', 'c', 30), ('b', 'e', 40), ('c', 'a', 20), ('c', 'b', 30), ('d', 'e', 50), ('e', 'a', 10), ('e', 'b', 40), ('e', 'd', 50), ('e', 'f', 60), ('f', 'e', 60)]\n",
      "Adjacency Matrix of Graph\n",
      "[[-1, -1, 20, -1, 10, -1], [-1, -1, 30, -1, 40, -1], [20, 30, -1, -1, -1, -1], [-1, -1, -1, -1, 50, -1], [10, 40, -1, 50, -1, 60], [-1, -1, -1, -1, 60, -1]]\n"
     ]
    }
   ],
   "source": [
    "# A simple representation of graph using Adjacency Matrix\n",
    "class Graph:\n",
    "\tdef __init__(self,numvertex):\n",
    "\t\tself.adjMatrix = [[-1]*numvertex for x in range(numvertex)]\n",
    "\t\tself.numvertex = numvertex\n",
    "\t\tself.vertices = {}\n",
    "\t\tself.verticeslist =[0]*numvertex\n",
    "\n",
    "\tdef set_vertex(self,vtx,id):\n",
    "\t\tif 0<=vtx<=self.numvertex:\n",
    "\t\t\tself.vertices[id] = vtx\n",
    "\t\t\tself.verticeslist[vtx] = id\n",
    "\n",
    "\tdef set_edge(self,frm,to,cost=0):\n",
    "\t\tfrm = self.vertices[frm]\n",
    "\t\tto = self.vertices[to]\n",
    "\t\tself.adjMatrix[frm][to] = cost\n",
    "\t\t\n",
    "\t\t# for directed graph do not add this\n",
    "\t\tself.adjMatrix[to][frm] = cost\n",
    "\n",
    "\tdef get_vertex(self):\n",
    "\t\treturn self.verticeslist\n",
    "\n",
    "\tdef get_edges(self):\n",
    "\t\tedges=[]\n",
    "\t\tfor i in range (self.numvertex):\n",
    "\t\t\tfor j in range (self.numvertex):\n",
    "\t\t\t\tif (self.adjMatrix[i][j]!=-1):\n",
    "\t\t\t\t\tedges.append((self.verticeslist[i],self.verticeslist[j],self.adjMatrix[i][j]))\n",
    "\t\treturn edges\n",
    "\t\t\n",
    "\tdef get_matrix(self):\n",
    "\t\treturn self.adjMatrix\n",
    "\n",
    "G =Graph(6)\n",
    "G.set_vertex(0,'a')\n",
    "G.set_vertex(1,'b')\n",
    "G.set_vertex(2,'c')\n",
    "G.set_vertex(3,'d')\n",
    "G.set_vertex(4,'e')\n",
    "G.set_vertex(5,'f')\n",
    "G.set_edge('a','e',10)\n",
    "G.set_edge('a','c',20)\n",
    "G.set_edge('c','b',30)\n",
    "G.set_edge('b','e',40)\n",
    "G.set_edge('e','d',50)\n",
    "G.set_edge('f','e',60)\n",
    "\n",
    "print(\"Vertices of Graph\")\n",
    "print(G.get_vertex())\n",
    "\n",
    "print(\"Edges of Graph\")\n",
    "print(G.get_edges())\n",
    "\n",
    "print(\"Adjacency Matrix of Graph\")\n",
    "print(G.get_matrix())"
   ]
  },
  {
   "cell_type": "markdown",
   "metadata": {},
   "source": [
    "### Adjacency List\n",
    "- An array of lists is used.\n",
    "- The size of the array is equal to the number of vertices.\n",
    "- Let the array be an array[]. An entry array[i] represents the list of vertices adjacent to the ith vertex.\n",
    "  - This representation can also be used to represent a weighted graph.\n",
    "- The weights of edges can be represented as lists of pairs."
   ]
  },
  {
   "cell_type": "code",
   "execution_count": 4,
   "metadata": {},
   "outputs": [
    {
     "name": "stdout",
     "output_type": "stream",
     "text": [
      "Adjacency list of vertex 0\n",
      " head -> 4 -> 1 \n",
      "\n",
      "Adjacency list of vertex 1\n",
      " head -> 4 -> 3 -> 2 -> 0 \n",
      "\n",
      "Adjacency list of vertex 2\n",
      " head -> 3 -> 1 \n",
      "\n",
      "Adjacency list of vertex 3\n",
      " head -> 4 -> 2 -> 1 \n",
      "\n",
      "Adjacency list of vertex 4\n",
      " head -> 3 -> 1 -> 0 \n",
      "\n"
     ]
    }
   ],
   "source": [
    "# A class to represent the adjacency list of the node\n",
    "class AdjNode:\n",
    "\tdef __init__(self, data):\n",
    "\t\tself.vertex = data\n",
    "\t\tself.next = None\n",
    "\n",
    "\n",
    "# A class to represent a graph. A graph\n",
    "# is the list of the adjacency lists.\n",
    "# Size of the array will be the no. of the\n",
    "# vertices \"V\"\n",
    "class Graph:\n",
    "\tdef __init__(self, vertices):\n",
    "\t\tself.V = vertices\n",
    "\t\tself.graph = [None] * self.V\n",
    "\n",
    "\t# Function to add an edge in an undirected graph\n",
    "\tdef add_edge(self, src, dest):\n",
    "\t\n",
    "\t\t# Adding the node to the source node\n",
    "\t\tnode = AdjNode(dest)\n",
    "\t\tnode.next = self.graph[src]\n",
    "\t\tself.graph[src] = node\n",
    "\n",
    "\t\t# Adding the source node to the destination as\n",
    "\t\t# it is the undirected graph\n",
    "\t\tnode = AdjNode(src)\n",
    "\t\tnode.next = self.graph[dest]\n",
    "\t\tself.graph[dest] = node\n",
    "\n",
    "\t# Function to print the graph\n",
    "\tdef print_graph(self):\n",
    "\t\tfor i in range(self.V):\n",
    "\t\t\tprint(\"Adjacency list of vertex {}\\n head\".format(i), end=\"\")\n",
    "\t\t\ttemp = self.graph[i]\n",
    "\t\t\twhile temp:\n",
    "\t\t\t\tprint(\" -> {}\".format(temp.vertex), end=\"\")\n",
    "\t\t\t\ttemp = temp.next\n",
    "\t\t\tprint(\" \\n\")\n",
    "\n",
    "\n",
    "# Driver program to the above graph class\n",
    "if __name__ == \"__main__\":\n",
    "\tV = 5\n",
    "\tgraph = Graph(V)\n",
    "\tgraph.add_edge(0, 1)\n",
    "\tgraph.add_edge(0, 4)\n",
    "\tgraph.add_edge(1, 2)\n",
    "\tgraph.add_edge(1, 3)\n",
    "\tgraph.add_edge(1, 4)\n",
    "\tgraph.add_edge(2, 3)\n",
    "\tgraph.add_edge(3, 4)\n",
    "\n",
    "\tgraph.print_graph()"
   ]
  },
  {
   "cell_type": "code",
   "execution_count": 5,
   "metadata": {},
   "outputs": [
    {
     "data": {
      "text/plain": [
       "[None, None, None, None, None]"
      ]
     },
     "execution_count": 5,
     "metadata": {},
     "output_type": "execute_result"
    }
   ],
   "source": [
    "[None] * 5"
   ]
  },
  {
   "cell_type": "markdown",
   "metadata": {},
   "source": [
    "## Graph Traversal\n",
    "\n",
    "### Breadth-First Search or BFS\n",
    "\n",
    "- Breadth-First Traversal for a graph is similar to Breadth-First Traversal of a tree.\n",
    "- The only catch here is, unlike trees, graphs may contain cycles, so we may come to the same node again.\n",
    "- To avoid processing a node more than once, we use a boolean visited array.\n",
    "- For simplicity, it is assumed that all vertices are reachable from the starting vertex."
   ]
  },
  {
   "cell_type": "code",
   "execution_count": 6,
   "metadata": {},
   "outputs": [
    {
     "name": "stdout",
     "output_type": "stream",
     "text": [
      "Following is Breadth First Traversal (starting from vertex 2)\n",
      "2 0 3 1 "
     ]
    }
   ],
   "source": [
    "# Python3 Program to print BFS traversal\n",
    "# from a given source vertex. BFS(int s)\n",
    "# traverses vertices reachable from s.\n",
    "from collections import defaultdict\n",
    "\n",
    "# This class represents a directed graph\n",
    "# using adjacency list representation\n",
    "class Graph:\n",
    "\n",
    "\t# Constructor\n",
    "\tdef __init__(self):\n",
    "\n",
    "\t\t# default dictionary to store graph\n",
    "\t\tself.graph = defaultdict(list)\n",
    "\n",
    "\t# function to add an edge to graph\n",
    "\tdef addEdge(self,u,v):\n",
    "\t\tself.graph[u].append(v)\n",
    "\n",
    "\t# Function to print a BFS of graph\n",
    "\tdef BFS(self, s):\n",
    "\n",
    "\t\t# Mark all the vertices as not visited\n",
    "\t\tvisited = [False] * (max(self.graph) + 1)\n",
    "\n",
    "\t\t# Create a queue for BFS\n",
    "\t\tqueue = []\n",
    "\n",
    "\t\t# Mark the source node as\n",
    "\t\t# visited and enqueue it\n",
    "\t\tqueue.append(s)\n",
    "\t\tvisited[s] = True\n",
    "\n",
    "\t\twhile queue:\n",
    "\n",
    "\t\t\t# Dequeue a vertex from\n",
    "\t\t\t# queue and print it\n",
    "\t\t\ts = queue.pop(0)\n",
    "\t\t\tprint (s, end = \" \")\n",
    "\n",
    "\t\t\t# Get all adjacent vertices of the\n",
    "\t\t\t# dequeued vertex s. If a adjacent\n",
    "\t\t\t# has not been visited, then mark it\n",
    "\t\t\t# visited and enqueue it\n",
    "\t\t\tfor i in self.graph[s]:\n",
    "\t\t\t\tif visited[i] == False:\n",
    "\t\t\t\t\tqueue.append(i)\n",
    "\t\t\t\t\tvisited[i] = True\n",
    "\n",
    "# Driver code\n",
    "\n",
    "# Create a graph given in\n",
    "# the above diagram\n",
    "g = Graph()\n",
    "g.addEdge(0, 1)\n",
    "g.addEdge(0, 2)\n",
    "g.addEdge(1, 2)\n",
    "g.addEdge(2, 0)\n",
    "g.addEdge(2, 3)\n",
    "g.addEdge(3, 3)\n",
    "\n",
    "print (\"Following is Breadth First Traversal\"\n",
    "\t\t\t\t\" (starting from vertex 2)\")\n",
    "g.BFS(2)"
   ]
  },
  {
   "cell_type": "markdown",
   "metadata": {},
   "source": [
    "### Depth First Search or DFS\n",
    "\n",
    "- Depth First Traversal for a graph is similar to Depth First Traversal of a tree.\n",
    "- The only catch here is, unlike trees, graphs may contain cycles, a node may be visited twice.\n",
    "- To avoid processing a node more than once, use a boolean visited array.\n",
    "\n",
    "### Algorithm\n",
    "\n",
    "- Create a recursive function that takes the index of the node and a visited array.\n",
    "- Mark the current node as visited and print the node.\n",
    "- Traverse all the adjacent and unmarked nodes and call the recursive function with the index of the adjacent node."
   ]
  },
  {
   "cell_type": "code",
   "execution_count": 7,
   "metadata": {},
   "outputs": [
    {
     "name": "stdout",
     "output_type": "stream",
     "text": [
      "Following is DFS from (starting from vertex 2)\n",
      "2 0 1 3 "
     ]
    }
   ],
   "source": [
    "# Python3 program to print DFS traversal\n",
    "# from a given graph\n",
    "from collections import defaultdict\n",
    "\n",
    "# This class represents a directed graph using\n",
    "# adjacency list representation\n",
    "class Graph:\n",
    "\n",
    "\t# Constructor\n",
    "\tdef __init__(self):\n",
    "\n",
    "\t\t# default dictionary to store graph\n",
    "\t\tself.graph = defaultdict(list)\n",
    "\n",
    "\t# function to add an edge to graph\n",
    "\tdef addEdge(self, u, v):\n",
    "\t\tself.graph[u].append(v)\n",
    "\n",
    "\t# A function used by DFS\n",
    "\tdef DFSUtil(self, v, visited):\n",
    "\n",
    "\t\t# Mark the current node as visited\n",
    "\t\t# and print it\n",
    "\t\tvisited.add(v)\n",
    "\t\tprint(v, end=' ')\n",
    "\n",
    "\t\t# Recur for all the vertices\n",
    "\t\t# adjacent to this vertex\n",
    "\t\tfor neighbour in self.graph[v]:\n",
    "\t\t\tif neighbour not in visited:\n",
    "\t\t\t\tself.DFSUtil(neighbour, visited)\n",
    "\n",
    "\t# The function to do DFS traversal. It uses\n",
    "\t# recursive DFSUtil()\n",
    "\tdef DFS(self, v):\n",
    "\n",
    "\t\t# Create a set to store visited vertices\n",
    "\t\tvisited = set()\n",
    "\n",
    "\t\t# Call the recursive helper function\n",
    "\t\t# to print DFS traversal\n",
    "\t\tself.DFSUtil(v, visited)\n",
    "\n",
    "# Driver code\n",
    "\n",
    "# Create a graph given\n",
    "# in the above diagram\n",
    "g = Graph()\n",
    "g.addEdge(0, 1)\n",
    "g.addEdge(0, 2)\n",
    "g.addEdge(1, 2)\n",
    "g.addEdge(2, 0)\n",
    "g.addEdge(2, 3)\n",
    "g.addEdge(3, 3)\n",
    "\n",
    "print(\"Following is DFS from (starting from vertex 2)\")\n",
    "g.DFS(2)"
   ]
  },
  {
   "cell_type": "code",
   "execution_count": null,
   "metadata": {},
   "outputs": [],
   "source": []
  }
 ],
 "metadata": {
  "kernelspec": {
   "display_name": "Python 3.9.12 ('base')",
   "language": "python",
   "name": "python3"
  },
  "language_info": {
   "codemirror_mode": {
    "name": "ipython",
    "version": 3
   },
   "file_extension": ".py",
   "mimetype": "text/x-python",
   "name": "python",
   "nbconvert_exporter": "python",
   "pygments_lexer": "ipython3",
   "version": "3.9.12"
  },
  "orig_nbformat": 4,
  "vscode": {
   "interpreter": {
    "hash": "8763e5ea16b716ad1eeffeab5f34109bd722594d0305e114e3d37565ed57b2a4"
   }
  }
 },
 "nbformat": 4,
 "nbformat_minor": 2
}
