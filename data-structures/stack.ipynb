{
 "cells": [
  {
   "cell_type": "markdown",
   "metadata": {},
   "source": [
    "## Stack\n",
    "\n",
    "- Stack is a **linear** data structure which follows a **particular order** in which the **operations** are performed. \n",
    "- The order may be LIFO(**Last In First Out**) or FILO(**First In Last Out**).\n",
    "- There are many real-life examples of a stack. \n",
    "- Consider an example of **plates stacked** over one another in the canteen. \n",
    "- The plate which is at **the top** is the **first** one to be **removed**, \n",
    "- i.e. the plate which has been placed at the **bottommost position remains** in the stack for **the longest** period of time. \n",
    "- So, it can be simply seen to follow LIFO(Last In First Out)/FILO(First In Last Out) order."
   ]
  },
  {
   "cell_type": "markdown",
   "metadata": {},
   "source": [
    "### Basic Operations\n",
    "\n",
    "- **empty**: Returns whether the stack is empty - Time Complexity: O(1)\n",
    "- **size**: Returns the size of the stack - Time Complexity: O(1)\n",
    "- **top**: Returns a reference to the topmost element of the stack - Time Complexity: O(1)\n",
    "- **push**: Inserts the element ‘a’ at the top of the stack - Time Complexity: O(1)\n",
    "- **pop**: Deletes the topmost element of the stack - Time Complexity: O(1)"
   ]
  },
  {
   "cell_type": "markdown",
   "metadata": {},
   "source": [
    "### Types of Stacks\n",
    "\n",
    "#### Register Stack\n",
    "\n",
    "- This type of stack is also a **memory element** present in the memory unit \n",
    "- and can handle a **small amount of data** only. \n",
    "- The **height** of the register stack is always **limited** \n",
    "- as the **size** of the register stack is **very small** compared to the memory.\n",
    "\n",
    "#### Memory Stack\n",
    "\n",
    "- This type of stack can handle a **large amount of memory data**. \n",
    "- The **height** of the memory stack is **flexible** as it occupies a large amount of memory data. "
   ]
  },
  {
   "cell_type": "markdown",
   "metadata": {},
   "source": [
    "### Applications of the stack\n",
    "\n",
    "- **Infix** to **Postfix/Prefix conversion** (a+b / ab+ / +ab)\n",
    "- **Redo-undo** features at many places like editors, photoshop.\n",
    "- **Forward and backward** features in web browsers\n",
    "- Used in many algorithms like Tower of Hanoi, tree traversals, stock span problems, and histogram problems.\n",
    "- **Backtracking** is one of the algorithm designing techniques. \n",
    "- Some examples of backtracking are the Knight-Tour problem, N-Queen problem, find your way through a maze, and game-like chess or checkers in all these problems we \n",
    "- **dive into someway if that way is not efficient** we \n",
    "- **come back to the previous state** \n",
    "- and **go into some another path**. \n",
    "- **To get back** from a current state we need to \n",
    "- **store the previous state** for that purpose we **need a stack**.\n",
    "- In Graph Algorithms like Topological Sorting and Strongly Connected Components\n",
    "- In **Memory management**, any modern computer uses a **stack as the primary management** for a running purpose. \n",
    "- Each program that is running in a computer system has its own memory allocations\n",
    "- **String reversal** is also another application of stack. \n",
    "- Here one by one **each character** gets **inserted** into the stack. \n",
    "- So the **first character** of the string is **on the bottom** of the stack \n",
    "- and the **last element** of a string is **on the top** of the stack. \n",
    "- After **Performing the pop** operations on the stack we get a string in **reverse order**."
   ]
  },
  {
   "cell_type": "markdown",
   "metadata": {},
   "source": [
    "### Implementation of Stack\n",
    "\n",
    "- Using array\n",
    "- Using linked list"
   ]
  },
  {
   "cell_type": "markdown",
   "metadata": {},
   "source": [
    "### Implementing Stack using Arrays\n",
    "\n",
    "#### Advantages of array implementation\n",
    "\n",
    "- **Easy** to implement.\n",
    "- Memory is saved as **pointers** are **not involved**. \n",
    "\n",
    "#### Disadvantages of array implementation\n",
    "\n",
    "- It is **not dynamic**.\n",
    "- It **doesn’t grow and shrink** depending on needs at runtime."
   ]
  },
  {
   "cell_type": "code",
   "execution_count": 2,
   "metadata": {},
   "outputs": [
    {
     "name": "stdout",
     "output_type": "stream",
     "text": [
      "10 pushed to stack \n",
      "20 pushed to stack \n",
      "30 pushed to stack \n",
      "30 popped from stack\n"
     ]
    }
   ],
   "source": [
    "from sys import maxsize\n",
    "\n",
    "def createStack():\n",
    "\tstack = []\n",
    "\treturn stack\n",
    "\n",
    "def isEmpty(stack):\n",
    "\treturn len(stack) == 0\n",
    "\n",
    "def push(stack, item):\n",
    "\tstack.append(item)\n",
    "\tprint(item + \" pushed to stack \")\n",
    "\t\n",
    "def pop(stack):\n",
    "\tif (isEmpty(stack)):\n",
    "\t\treturn str(-maxsize -1) # return minus infinite\n",
    "\t\n",
    "\treturn stack.pop()\n",
    "\n",
    "def peek(stack):\n",
    "\tif (isEmpty(stack)):\n",
    "\t\treturn str(-maxsize -1) # return minus infinite\n",
    "\treturn stack[len(stack) - 1]\n",
    "\n",
    "stack = createStack()\n",
    "push(stack, str(10))\n",
    "push(stack, str(20))\n",
    "push(stack, str(30))\n",
    "print(pop(stack) + \" popped from stack\")"
   ]
  },
  {
   "cell_type": "markdown",
   "metadata": {},
   "source": [
    "### Implementing Stack using Linked List\n",
    "\n",
    "#### Advantages of Linked List implementation\n",
    "\n",
    "- The **linked list** implementation of a **stack** can **grow and shrink** according to the needs at runtime.\n",
    "- It is used in many virtual machines like JVM.\n",
    "- Stacks are **more secure and reliable** as they **do not get corrupted easily**.\n",
    "- Stack **cleans up the objects automatically**.\n",
    "\n",
    "#### Disadvantages of Linked List\n",
    "\n",
    "Requires **extra memory** due to the **involvement of pointers**.\n",
    "**Random accessing** is **not possible** in stack.\n",
    "The **total size** of the stack must be **defined before**.\n",
    "If the stack falls outside the memory it can lead to abnormal termination."
   ]
  },
  {
   "cell_type": "code",
   "execution_count": 3,
   "metadata": {},
   "outputs": [
    {
     "name": "stdout",
     "output_type": "stream",
     "text": [
      " 10 pushed to stack\n",
      " 20 pushed to stack\n",
      " 30 pushed to stack\n",
      " 30 popped from stack\n",
      "Top element is  20 \n"
     ]
    }
   ],
   "source": [
    "class StackNode:\n",
    "\tdef __init__(self, data):\n",
    "\t\tself.data = data\n",
    "\t\tself.next = None\n",
    "\n",
    "\n",
    "class Stack:\n",
    "\tdef __init__(self):\n",
    "\t\tself.root = None\n",
    "\n",
    "\tdef isEmpty(self):\n",
    "\t\treturn True if self.root is None else False\n",
    "\n",
    "\tdef push(self, data):\n",
    "\t\tnewNode = StackNode(data)\n",
    "\t\tnewNode.next = self.root\n",
    "\t\tself.root = newNode\n",
    "\t\tprint (\"% d pushed to stack\" % (data))\n",
    "\n",
    "\tdef pop(self):\n",
    "\t\tif (self.isEmpty()):\n",
    "\t\t\treturn float(\"-inf\")\n",
    "\t\ttemp = self.root\n",
    "\t\tself.root = self.root.next\n",
    "\t\tpopped = temp.data\n",
    "\t\treturn popped\n",
    "\n",
    "\tdef peek(self):\n",
    "\t\tif self.isEmpty():\n",
    "\t\t\treturn float(\"-inf\")\n",
    "\t\treturn self.root.data\n",
    "\n",
    "stack = Stack()\n",
    "stack.push(10)\n",
    "stack.push(20)\n",
    "stack.push(30)\n",
    "\n",
    "print (\"% d popped from stack\" % (stack.pop()))\n",
    "print (\"Top element is % d \" % (stack.peek()))"
   ]
  },
  {
   "cell_type": "markdown",
   "metadata": {},
   "source": [
    "### Simple Implementation with Python List"
   ]
  },
  {
   "cell_type": "code",
   "execution_count": 1,
   "metadata": {},
   "outputs": [
    {
     "name": "stdout",
     "output_type": "stream",
     "text": [
      "Initial stack\n",
      "['g', 'f', 'g']\n",
      "\n",
      "Elements popped from stack:\n",
      "g\n",
      "f\n",
      "g\n",
      "\n",
      "Stack after elements are popped:\n",
      "[]\n"
     ]
    }
   ],
   "source": [
    "stack = []\n",
    "\n",
    "# append() function to push\n",
    "# element in the stack\n",
    "stack.append('g')\n",
    "stack.append('f')\n",
    "stack.append('g')\n",
    "\n",
    "print('Initial stack')\n",
    "print(stack)\n",
    "\n",
    "# pop() function to pop\n",
    "# element from stack in\n",
    "# LIFO order\n",
    "print('\\nElements popped from stack:')\n",
    "print(stack.pop())\n",
    "print(stack.pop())\n",
    "print(stack.pop())\n",
    "\n",
    "print('\\nStack after elements are popped:')\n",
    "print(stack)\n",
    "\n",
    "# uncommenting print(stack.pop())\n",
    "# will cause an IndexError\n",
    "# as the stack is now empty"
   ]
  },
  {
   "cell_type": "code",
   "execution_count": 2,
   "metadata": {},
   "outputs": [],
   "source": [
    "stack = []"
   ]
  },
  {
   "cell_type": "code",
   "execution_count": 44,
   "metadata": {},
   "outputs": [
    {
     "name": "stdout",
     "output_type": "stream",
     "text": [
      "[1]\n",
      "[1, 2]\n",
      "[1, 2, 3]\n"
     ]
    }
   ],
   "source": [
    "stack.append(1)\n",
    "print(stack)\n",
    "\n",
    "stack.append(2)\n",
    "print(stack)\n",
    "\n",
    "stack.append(3)\n",
    "print(stack)"
   ]
  },
  {
   "cell_type": "code",
   "execution_count": 45,
   "metadata": {},
   "outputs": [
    {
     "data": {
      "text/plain": [
       "3"
      ]
     },
     "execution_count": 45,
     "metadata": {},
     "output_type": "execute_result"
    }
   ],
   "source": [
    "len(stack)"
   ]
  },
  {
   "cell_type": "code",
   "execution_count": 46,
   "metadata": {},
   "outputs": [
    {
     "data": {
      "text/plain": [
       "3"
      ]
     },
     "execution_count": 46,
     "metadata": {},
     "output_type": "execute_result"
    }
   ],
   "source": [
    "stack.pop()"
   ]
  },
  {
   "cell_type": "code",
   "execution_count": 47,
   "metadata": {},
   "outputs": [
    {
     "data": {
      "text/plain": [
       "2"
      ]
     },
     "execution_count": 47,
     "metadata": {},
     "output_type": "execute_result"
    }
   ],
   "source": [
    "len(stack)"
   ]
  },
  {
   "cell_type": "code",
   "execution_count": 48,
   "metadata": {},
   "outputs": [
    {
     "data": {
      "text/plain": [
       "2"
      ]
     },
     "execution_count": 48,
     "metadata": {},
     "output_type": "execute_result"
    }
   ],
   "source": [
    "stack[-1]"
   ]
  },
  {
   "cell_type": "code",
   "execution_count": 49,
   "metadata": {},
   "outputs": [
    {
     "data": {
      "text/plain": [
       "0"
      ]
     },
     "execution_count": 49,
     "metadata": {},
     "output_type": "execute_result"
    }
   ],
   "source": [
    "stack.clear()\n",
    "len(stack)"
   ]
  }
 ],
 "metadata": {
  "kernelspec": {
   "display_name": "Python 3.10.4 ('dsa')",
   "language": "python",
   "name": "python3"
  },
  "language_info": {
   "codemirror_mode": {
    "name": "ipython",
    "version": 3
   },
   "file_extension": ".py",
   "mimetype": "text/x-python",
   "name": "python",
   "nbconvert_exporter": "python",
   "pygments_lexer": "ipython3",
   "version": "3.10.4"
  },
  "orig_nbformat": 4,
  "vscode": {
   "interpreter": {
    "hash": "0d6dd43efe11c094964d50703546b3f4892ad5efa9c82f100004b4750c73a6be"
   }
  }
 },
 "nbformat": 4,
 "nbformat_minor": 2
}
