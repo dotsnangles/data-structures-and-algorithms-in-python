{
 "cells": [
  {
   "cell_type": "markdown",
   "metadata": {},
   "source": [
    "## Min Heap"
   ]
  },
  {
   "cell_type": "code",
   "execution_count": 1,
   "metadata": {},
   "outputs": [],
   "source": [
    "# Python3 implementation of Min Heap\n",
    "\n",
    "import sys\n",
    "\n",
    "class MinHeap:\n",
    "\n",
    "\tdef __init__(self, maxsize):\n",
    "\t\tself.maxsize = maxsize\n",
    "\t\tself.size = 0\n",
    "\t\tself.Heap = [0]*(self.maxsize + 1)\n",
    "\t\tself.Heap[0] = -1 * sys.maxsize\n",
    "\t\tself.FRONT = 1\n",
    "\n",
    "\t# Function to return the position of\n",
    "\t# parent for the node currently\n",
    "\t# at pos\n",
    "\tdef parent(self, pos):\n",
    "\t\treturn pos//2\n",
    "\n",
    "\t# Function to return the position of\n",
    "\t# the left child for the node currently\n",
    "\t# at pos\n",
    "\tdef leftChild(self, pos):\n",
    "\t\treturn 2 * pos\n",
    "\n",
    "\t# Function to return the position of\n",
    "\t# the right child for the node currently\n",
    "\t# at pos\n",
    "\tdef rightChild(self, pos):\n",
    "\t\treturn (2 * pos) + 1\n",
    "\n",
    "\t# Function that returns true if the passed\n",
    "\t# node is a leaf node\n",
    "\tdef isLeaf(self, pos):\n",
    "\t\treturn pos*2 > self.size\n",
    "\n",
    "\t# Function to swap two nodes of the heap\n",
    "\tdef swap(self, fpos, spos):\n",
    "\t\tself.Heap[fpos], self.Heap[spos] = self.Heap[spos], self.Heap[fpos]\n",
    "\n",
    "\t# Function to heapify the node at pos\n",
    "\tdef minHeapify(self, pos):\n",
    "\n",
    "\t\t# If the node is a non-leaf node and greater\n",
    "\t\t# than any of its child\n",
    "\t\tif not self.isLeaf(pos):\n",
    "\t\t\tif (self.Heap[pos] > self.Heap[self.leftChild(pos)] or\n",
    "\t\t\tself.Heap[pos] > self.Heap[self.rightChild(pos)]):\n",
    "\n",
    "\t\t\t\t# Swap with the left child and heapify\n",
    "\t\t\t\t# the left child\n",
    "\t\t\t\tif self.Heap[self.leftChild(pos)] < self.Heap[self.rightChild(pos)]:\n",
    "\t\t\t\t\tself.swap(pos, self.leftChild(pos))\n",
    "\t\t\t\t\tself.minHeapify(self.leftChild(pos))\n",
    "\n",
    "\t\t\t\t# Swap with the right child and heapify\n",
    "\t\t\t\t# the right child\n",
    "\t\t\t\telse:\n",
    "\t\t\t\t\tself.swap(pos, self.rightChild(pos))\n",
    "\t\t\t\t\tself.minHeapify(self.rightChild(pos))\n",
    "\n",
    "\t# Function to insert a node into the heap\n",
    "\tdef insert(self, element):\n",
    "\t\tif self.size >= self.maxsize :\n",
    "\t\t\treturn\n",
    "\t\tself.size+= 1\n",
    "\t\tself.Heap[self.size] = element\n",
    "\n",
    "\t\tcurrent = self.size\n",
    "\n",
    "\t\twhile self.Heap[current] < self.Heap[self.parent(current)]:\n",
    "\t\t\tself.swap(current, self.parent(current))\n",
    "\t\t\tcurrent = self.parent(current)\n",
    "\n",
    "\t# Function to print the contents of the heap\n",
    "\tdef Print(self):\n",
    "\t\tfor i in range(1, (self.size//2)+1):\n",
    "\t\t\tprint(\" PARENT : \"+ str(self.Heap[i])+\" LEFT CHILD : \"+\n",
    "\t\t\t\t\t\t\t\tstr(self.Heap[2 * i])+\" RIGHT CHILD : \"+\n",
    "\t\t\t\t\t\t\t\tstr(self.Heap[2 * i + 1]))\n",
    "\n",
    "\t# Function to build the min heap using\n",
    "\t# the minHeapify function\n",
    "\tdef minHeap(self):\n",
    "\n",
    "\t\tfor pos in range(self.size//2, 0, -1):\n",
    "\t\t\tself.minHeapify(pos)\n",
    "\n",
    "\t# Function to remove and return the minimum\n",
    "\t# element from the heap\n",
    "\tdef remove(self):\n",
    "\n",
    "\t\tpopped = self.Heap[self.FRONT]\n",
    "\t\tself.Heap[self.FRONT] = self.Heap[self.size]\n",
    "\t\tself.size-= 1\n",
    "\t\tself.minHeapify(self.FRONT)\n",
    "\t\treturn popped"
   ]
  },
  {
   "cell_type": "code",
   "execution_count": 2,
   "metadata": {},
   "outputs": [
    {
     "name": "stdout",
     "output_type": "stream",
     "text": [
      "The minHeap is \n",
      " PARENT : 3 LEFT CHILD : 5 RIGHT CHILD : 6\n",
      " PARENT : 5 LEFT CHILD : 9 RIGHT CHILD : 84\n",
      " PARENT : 6 LEFT CHILD : 19 RIGHT CHILD : 17\n",
      " PARENT : 9 LEFT CHILD : 22 RIGHT CHILD : 10\n",
      "The Min val is 3\n"
     ]
    }
   ],
   "source": [
    "\tprint('The minHeap is ')\n",
    "\tminHeap = MinHeap(15)\n",
    "\tminHeap.insert(5)\n",
    "\tminHeap.insert(3)\n",
    "\tminHeap.insert(17)\n",
    "\tminHeap.insert(10)\n",
    "\tminHeap.insert(84)\n",
    "\tminHeap.insert(19)\n",
    "\tminHeap.insert(6)\n",
    "\tminHeap.insert(22)\n",
    "\tminHeap.insert(9)\n",
    "\tminHeap.minHeap()\n",
    "\n",
    "\tminHeap.Print()\n",
    "\tprint(\"The Min val is \" + str(minHeap.remove()))"
   ]
  }
 ],
 "metadata": {
  "kernelspec": {
   "display_name": "Python 3.9.12 ('base')",
   "language": "python",
   "name": "python3"
  },
  "language_info": {
   "codemirror_mode": {
    "name": "ipython",
    "version": 3
   },
   "file_extension": ".py",
   "mimetype": "text/x-python",
   "name": "python",
   "nbconvert_exporter": "python",
   "pygments_lexer": "ipython3",
   "version": "3.9.12"
  },
  "orig_nbformat": 4,
  "vscode": {
   "interpreter": {
    "hash": "8763e5ea16b716ad1eeffeab5f34109bd722594d0305e114e3d37565ed57b2a4"
   }
  }
 },
 "nbformat": 4,
 "nbformat_minor": 2
}
