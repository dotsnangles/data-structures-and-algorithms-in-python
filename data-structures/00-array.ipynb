{
 "cells": [
  {
   "cell_type": "markdown",
   "metadata": {},
   "source": [
    "## Arrays\n",
    "\n",
    "### What is an Array?\n",
    "\n",
    "- An array is a collection of items of same data type stored at contiguous memory locations. \n",
    "- This makes it easier to calculate the position of each element \n",
    "- by simply adding an offset to a base value, i.e., \n",
    "- the memory location of the first element of the array (generally denoted by the name of the array). \n",
    "- The base value is index 0 and the difference between the two indexes is the offset.\n",
    "\n",
    "### Is the array always of fixed size?\n",
    "\n",
    "- In C language, the array has a fixed size \n",
    "- meaning once the size is given to it, it cannot be changed \n",
    "- i.e. you can’t shrink it nor can you expand it. \n",
    "- The reason was that for expanding if we change the size we can’t be sure ( it’s not possible every time) \n",
    "- that we get the next memory location to us for free. \n",
    "- The shrinking will not work because the array, when declared, gets memory statically allocated, \n",
    "- and thus compiler is the only one that can destroy it.\n",
    "\n",
    "### Types of indexing in an array\n",
    "- 0 (zero-based indexing)\n",
    "  - The first element of the array is indexed by a subscript of 0.\n",
    "- 1 (one-based indexing)\n",
    "  - The first element of the array is indexed by the subscript of 1.\n",
    "- n (N-based indexing)\n",
    "  - The base index of an array can be freely chosen. \n",
    "  - Usually, programming languages allowing n-based indexing also allow negative index values, \n",
    "  - and other scalar data types like enumerations, or characters may be used as an array index.\n",
    "\n",
    "### How an Array is initialized?\n",
    "\n",
    "By default the array is uninitialized, and no elements of the array are set to any value. However, for the proper working of the array, array initialization becomes important. Array initialization can be done by the following methods:\n",
    "\n",
    "1. Passing no value within the initializer: One can initialize the array by defining the size of the array and passing no values within the initializer.\n",
    "\n",
    "int arr[ 5 ] = {  };\n",
    "\n",
    "2. By passing specific values within the initializer: One can initialize the array by defining the size of the array and passing specific values within the initializer. \n",
    "\n",
    "int arr[ 5 ] = { 1 , 2 , 3 , 4 , 5 };\n",
    "\n",
    "Note: The count of elements within the “{ }”, must be less than the size of the array \n",
    "If the count of elements within the “{ }” is less than the size of the array, the remaining positions are considered to be ‘0’.\n",
    "\n",
    "int arr[ 5 ] = { 1 , 2 , 3 } ;\n",
    "\n",
    "3. By passing specific values within the initializer but not declaring the size: One can initialize the array by passing specific values within the initializer and not particularly mentioning the size, the size is interpreted by the compiler.\n",
    "\n",
    "int arr[  ] = { 1 , 2 , 3 , 4 , 5 };\n",
    "\n",
    "4. Universal Initialization: After the adoption of universal initialization in C++, one can avoid using the equals sign between the declaration and the initializer. \n",
    "\n",
    "int arr[ ]  { 1 , 2 , 3 , 4 , 5 };\n",
    "\n",
    "To know more about array initialization, click here."
   ]
  },
  {
   "cell_type": "markdown",
   "metadata": {},
   "source": [
    "### Python Arrays\n",
    "\n",
    "- An array is a collection of items **stored at contiguous memory locations**. \n",
    "- The idea is to store multiple items of the **same type together**. \n",
    "- This makes it **easier** to calculate the **position** of each element by simply adding an offset to a base value, \n",
    "- i.e., the memory **location** of the **first element** of the array (generally **denoted by** the **name** of the **array**).\n",
    "- Array can be handled **in Python** by a **module named array**. \n",
    "- They can be **useful when** we have to manipulate only a **specific data type** values. \n",
    "- A user can treat lists as arrays. \n",
    "- However, user **cannot constraint** the **type** of elements stored **in a list**. \n",
    "- If you create arrays using the array module, \n",
    "- all elements of the array must be of the same type. "
   ]
  },
  {
   "cell_type": "code",
   "execution_count": 1,
   "metadata": {},
   "outputs": [
    {
     "name": "stdout",
     "output_type": "stream",
     "text": [
      "The new created array is :  1 2 3 \n",
      "The new created array is :  2.5 3.2 3.3 "
     ]
    }
   ],
   "source": [
    "import array as arr\n",
    "\n",
    "a = arr.array('i', [1, 2, 3])\n",
    "\n",
    "print (\"The new created array is : \", end =\" \")\n",
    "for i in range (0, 3):\n",
    "\tprint (a[i], end =\" \")\n",
    "print()\n",
    "\n",
    "b = arr.array('d', [2.5, 3.2, 3.3])\n",
    "\n",
    "print (\"The new created array is : \", end =\" \")\n",
    "for i in range (0, 3):\n",
    "\tprint (b[i], end =\" \")"
   ]
  },
  {
   "cell_type": "code",
   "execution_count": 2,
   "metadata": {},
   "outputs": [
    {
     "name": "stdout",
     "output_type": "stream",
     "text": [
      "Array before insertion :  1 2 3 \n",
      "Array after insertion :  1 4 2 3 \n",
      "Array before insertion :  2.5 3.2 3.3 \n",
      "Array after insertion :  2.5 3.2 3.3 4.4 \n"
     ]
    }
   ],
   "source": [
    "import array as arr\n",
    "\n",
    "a = arr.array('i', [1, 2, 3])\n",
    "\n",
    "\n",
    "print (\"Array before insertion : \", end =\" \")\n",
    "for i in range (0, 3):\n",
    "\tprint (a[i], end =\" \")\n",
    "print()\n",
    "\n",
    "a.insert(1, 4)\n",
    "\n",
    "print (\"Array after insertion : \", end =\" \")\n",
    "for i in (a):\n",
    "\tprint (i, end =\" \")\n",
    "print()\n",
    "\n",
    "b = arr.array('d', [2.5, 3.2, 3.3])\n",
    "\n",
    "print (\"Array before insertion : \", end =\" \")\n",
    "for i in range (0, 3):\n",
    "\tprint (b[i], end =\" \")\n",
    "print()\n",
    "\n",
    "b.append(4.4)\n",
    "\n",
    "print (\"Array after insertion : \", end =\" \")\n",
    "for i in (b):\n",
    "\tprint (i, end =\" \")\n",
    "print()"
   ]
  },
  {
   "cell_type": "code",
   "execution_count": 3,
   "metadata": {},
   "outputs": [
    {
     "name": "stdout",
     "output_type": "stream",
     "text": [
      "Access element is:  1\n",
      "Access element is:  4\n",
      "Access element is:  3.2\n",
      "Access element is:  3.3\n"
     ]
    }
   ],
   "source": [
    "import array as arr\n",
    "\n",
    "a = arr.array('i', [1, 2, 3, 4, 5, 6])\n",
    "\n",
    "print(\"Access element is: \", a[0])\n",
    "\n",
    "print(\"Access element is: \", a[3])\n",
    "\n",
    "b = arr.array('d', [2.5, 3.2, 3.3])\n",
    "\n",
    "print(\"Access element is: \", b[1])\n",
    "\n",
    "print(\"Access element is: \", b[2])"
   ]
  },
  {
   "cell_type": "code",
   "execution_count": 4,
   "metadata": {},
   "outputs": [
    {
     "name": "stdout",
     "output_type": "stream",
     "text": [
      "The new created array is : 1 2 3 1 5 \n",
      "The popped element is : 3\n",
      "The array after popping is : 1 2 1 5 \n",
      "The array after removing is : 2 1 5 "
     ]
    }
   ],
   "source": [
    "import array\n",
    "\n",
    "arr = array.array('i', [1, 2, 3, 1, 5])\n",
    "\n",
    "print (\"The new created array is : \", end =\"\")\n",
    "for i in range (0, 5):\n",
    "\tprint (arr[i], end =\" \")\n",
    "\n",
    "print (\"\\r\")\n",
    "\n",
    "print (\"The popped element is : \", end =\"\")\n",
    "print (arr.pop(2))\n",
    "\n",
    "print (\"The array after popping is : \", end =\"\")\n",
    "for i in range (0, 4):\n",
    "\tprint (arr[i], end =\" \")\n",
    "\n",
    "print(\"\\r\")\n",
    "\n",
    "arr.remove(1)\n",
    "\n",
    "print (\"The array after removing is : \", end =\"\")\n",
    "for i in range (0, 3):\n",
    "\tprint (arr[i], end =\" \")"
   ]
  },
  {
   "cell_type": "code",
   "execution_count": 5,
   "metadata": {},
   "outputs": [
    {
     "name": "stdout",
     "output_type": "stream",
     "text": [
      "Initial Array: \n",
      "1 2 3 4 5 6 7 8 9 10 \n",
      "Slicing elements in a range 3-8: \n",
      "array('i', [4, 5, 6, 7, 8])\n",
      "\n",
      "Elements sliced from 5th element till the end: \n",
      "array('i', [6, 7, 8, 9, 10])\n",
      "\n",
      "Printing all elements using slice operation: \n",
      "array('i', [1, 2, 3, 4, 5, 6, 7, 8, 9, 10])\n"
     ]
    }
   ],
   "source": [
    "import array as arr\n",
    "\n",
    "l = [1, 2, 3, 4, 5, 6, 7, 8, 9, 10]\n",
    "\n",
    "a = arr.array('i', l)\n",
    "print(\"Initial Array: \")\n",
    "for i in (a):\n",
    "\tprint(i, end =\" \")\n",
    "\n",
    "Sliced_array = a[3:8]\n",
    "print(\"\\nSlicing elements in a range 3-8: \")\n",
    "print(Sliced_array)\n",
    "\n",
    "Sliced_array = a[5:]\n",
    "print(\"\\nElements sliced from 5th \"\n",
    "\t\"element till the end: \")\n",
    "print(Sliced_array)\n",
    "\n",
    "Sliced_array = a[:]\n",
    "print(\"\\nPrinting all elements using slice operation: \")\n",
    "print(Sliced_array)"
   ]
  },
  {
   "cell_type": "code",
   "execution_count": 6,
   "metadata": {},
   "outputs": [
    {
     "name": "stdout",
     "output_type": "stream",
     "text": [
      "The new created array is : 1 2 3 1 2 5 \n",
      "The index of 1st occurrence of 2 is : 1\n",
      "The index of 1st occurrence of 1 is : 0\n"
     ]
    }
   ],
   "source": [
    "import array\n",
    "\n",
    "arr = array.array('i', [1, 2, 3, 1, 2, 5])\n",
    "\n",
    "print (\"The new created array is : \", end =\"\")\n",
    "for i in range (0, 6):\n",
    "\tprint (arr[i], end =\" \")\n",
    "\n",
    "print (\"\\r\")\n",
    "\n",
    "print (\"The index of 1st occurrence of 2 is : \", end =\"\")\n",
    "print (arr.index(2))\n",
    "\n",
    "print (\"The index of 1st occurrence of 1 is : \", end =\"\")\n",
    "print (arr.index(1))"
   ]
  },
  {
   "cell_type": "code",
   "execution_count": 7,
   "metadata": {},
   "outputs": [
    {
     "name": "stdout",
     "output_type": "stream",
     "text": [
      "Array before update : 1 2 3 1 2 5 \n",
      "Array after update : 1 2 6 1 2 5 \n",
      "Array after update : 1 2 6 1 8 5 "
     ]
    }
   ],
   "source": [
    "import array\n",
    "\n",
    "arr = array.array('i', [1, 2, 3, 1, 2, 5])\n",
    "\n",
    "print (\"Array before update : \", end =\"\")\n",
    "for i in range (0, 6):\n",
    "\tprint (arr[i], end =\" \")\n",
    "\n",
    "print (\"\\r\")\n",
    "\n",
    "arr[2] = 6\n",
    "print(\"Array after update : \", end =\"\")\n",
    "for i in range (0, 6):\n",
    "\tprint (arr[i], end =\" \")\n",
    "print()\n",
    "\n",
    "arr[4] = 8\n",
    "print(\"Array after update : \", end =\"\")\n",
    "for i in range (0, 6):\n",
    "\tprint (arr[i], end =\" \")"
   ]
  }
 ],
 "metadata": {
  "kernelspec": {
   "display_name": "Python 3.10.4 ('dsa')",
   "language": "python",
   "name": "python3"
  },
  "language_info": {
   "codemirror_mode": {
    "name": "ipython",
    "version": 3
   },
   "file_extension": ".py",
   "mimetype": "text/x-python",
   "name": "python",
   "nbconvert_exporter": "python",
   "pygments_lexer": "ipython3",
   "version": "3.10.4"
  },
  "orig_nbformat": 4,
  "vscode": {
   "interpreter": {
    "hash": "0d6dd43efe11c094964d50703546b3f4892ad5efa9c82f100004b4750c73a6be"
   }
  }
 },
 "nbformat": 4,
 "nbformat_minor": 2
}
