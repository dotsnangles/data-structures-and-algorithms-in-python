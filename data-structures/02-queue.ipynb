{
 "cells": [
  {
   "cell_type": "markdown",
   "metadata": {},
   "source": [
    "## Queue\n",
    "\n",
    "- A queue is a **linear data structure** that is **open at both ends** \n",
    "- and the operations are performed in **First In First Out (FIFO)** order.\n",
    "- We define a queue to be **a list** \n",
    "- in which all **additions** to the list are made **at one end**, \n",
    "- and all **deletions** from the list are made **at the other end**. \n",
    "- The element which is first pushed into the order, the operation is first performed on that."
   ]
  },
  {
   "cell_type": "markdown",
   "metadata": {},
   "source": [
    "### FIFO Principle of Queue\n",
    "\n",
    "- A Queue is like a line waiting to purchase tickets, \n",
    "- where the **first** person in line is the **first** person served. (i.e. **First come first serve**).\n",
    "- Position of the entry in a queue ready to be served, that is, \n",
    "- the first entry that will be removed from the queue, is called the \n",
    "- **front** of the queue(sometimes, **head** of the queue), \n",
    "- similarly, the position of the last entry in the queue, that is, the one most recently added, is called the \n",
    "- **rear** (or the **tail**) of the queue. See the below figure."
   ]
  },
  {
   "cell_type": "markdown",
   "metadata": {},
   "source": [
    "- **Enqueue**: Adds an item to the queue. If the queue is full, then it is said to be an Overflow condition – Time Complexity: O(1)\n",
    "- **Dequeue**: Removes an item from the queue. The items are popped in the same order in which they are pushed. If the queue is empty, then it is said to be an Underflow condition – Time Complexity: O(1)\n",
    "- **Front**: Get the front item from queue – Time Complexity: O(1)\n",
    "- **Rear**: Get the last item from queue – Time Complexity: O(1)"
   ]
  },
  {
   "cell_type": "markdown",
   "metadata": {},
   "source": [
    "### Characteristics of Queue\n",
    "\n",
    "- Queue can handle **multiple data**.\n",
    "- We can **access both ends**.\n",
    "- They are **fast** and **flexible**. "
   ]
  },
  {
   "cell_type": "markdown",
   "metadata": {},
   "source": [
    "### Queue Representation\n",
    "\n",
    "#### Array Representation\n",
    "\n",
    "- Like stacks, Queues can also be **represented in an array**:\n",
    "- In this representation, the Queue is implemented using the array. Variables used in this case are:\n",
    "  - **Queue**: the **name of the array** storing queue elements.\n",
    "  - **Front**: the **index** where the **first element** is stored in the array representing the queue.\n",
    "  - **Rear**: the **index** where the **last element** is stored in an array representing the queue."
   ]
  },
  {
   "cell_type": "code",
   "execution_count": 1,
   "metadata": {},
   "outputs": [],
   "source": [
    "class Queue:\n",
    "\tdef __init__(self, cap):\n",
    "\t\tself.cap = cap\n",
    "\t\tself.front = 0\n",
    "\t\tself.size = 0\n",
    "\t\tself.rear = cap - 1\n",
    "\t\tself.arr = [0] * cap\n",
    "\n",
    "\tdef createQueue(self):\n",
    "\t\treturn Queue(self.cap)"
   ]
  },
  {
   "cell_type": "markdown",
   "metadata": {},
   "source": [
    "#### Linked List Representation\n",
    "- A queue can also be represented **in Linked-lists**, **Pointers**, and Structures."
   ]
  },
  {
   "cell_type": "code",
   "execution_count": 2,
   "metadata": {},
   "outputs": [],
   "source": [
    "class QNode:\n",
    "\tdef __init__(self, data):\n",
    "\t\tself.data = data\n",
    "\t\tself.next = None\n",
    "\n",
    "class Queue:\n",
    "\tdef __init__(self):\n",
    "\t\tself.front = None\n",
    "\t\tself.rear = None"
   ]
  },
  {
   "cell_type": "markdown",
   "metadata": {},
   "source": [
    "### Types of Queue\n",
    "\n",
    "#### Input Restricted Queue\n",
    "\n",
    "- This is a simple queue. In this type of queue, \n",
    "- the **input** can be **taken from only one end** but **deletion** can be done **from any of the ends**.\n",
    "\n",
    "#### Output Restricted Queue\n",
    "\n",
    "- This is also a simple queue. \n",
    "- In this type of queue, the **input** can be **taken from both ends** but **deletion** can be done from **only one end**.\n",
    "\n",
    "#### Circular Queue\n",
    "\n",
    "- This is a special type of queue \n",
    "- where the **last** position is **connected back** **to the first** position. \n",
    "- Here also the operations are performed in FIFO order.\n",
    "\n",
    "#### Double-Ended Queue (Deque)\n",
    "\n",
    "- In a double-ended queue \n",
    "- the **insertion** and **deletion** operations, both can be **performed from both ends**.\n",
    "\n",
    "#### Priority Queue\n",
    "\n",
    "- A priority queue is a special queue \n",
    "- where the **elements** are **accessed based on the priority** assigned to them."
   ]
  },
  {
   "cell_type": "markdown",
   "metadata": {},
   "source": [
    "### Applications of Queue\n",
    "- Application of queue is common. In a computer system, there may be queues of tasks waiting for the printer, for access to disk storage, or even in a time-sharing system, for use of the CPU. \n",
    "- Within a single program, there may be multiple requests to be kept in a queue, or one task may create other tasks, which must be done in turn by keeping them in a queue.\n",
    "- It has a **single resource** and **multiple consumers**.\n",
    "- It **synchronizes** between **slow and fast devices**.\n",
    "- In a network, a queue is used in devices such as a **router/switch and mail queue**.\n",
    "- Variations: **dequeue**, **priority queue** and **double-ended priority queue**."
   ]
  },
  {
   "cell_type": "markdown",
   "metadata": {},
   "source": [
    "### Simple Implementation with Python List"
   ]
  },
  {
   "cell_type": "code",
   "execution_count": 1,
   "metadata": {},
   "outputs": [
    {
     "name": "stdout",
     "output_type": "stream",
     "text": [
      "Initial queue\n",
      "['g', 'f', 'g']\n",
      "\n",
      "Elements dequeued from queue\n",
      "g\n",
      "f\n",
      "g\n",
      "\n",
      "Queue after removing elements\n",
      "[]\n"
     ]
    }
   ],
   "source": [
    "# Initializing a queue\n",
    "queue = []\n",
    "\n",
    "# Adding elements to the queue\n",
    "queue.append('g')\n",
    "queue.append('f')\n",
    "queue.append('g')\n",
    "\n",
    "print(\"Initial queue\")\n",
    "print(queue)\n",
    "\n",
    "# Removing elements from the queue\n",
    "print(\"\\nElements dequeued from queue\")\n",
    "print(queue.pop(0))\n",
    "print(queue.pop(0))\n",
    "print(queue.pop(0))\n",
    "\n",
    "print(\"\\nQueue after removing elements\")\n",
    "print(queue)\n",
    "\n",
    "# Uncommenting print(queue.pop(0))\n",
    "# will raise and IndexError\n",
    "# as the queue is now empty"
   ]
  },
  {
   "cell_type": "code",
   "execution_count": 2,
   "metadata": {},
   "outputs": [],
   "source": [
    "queue = []"
   ]
  },
  {
   "cell_type": "code",
   "execution_count": 15,
   "metadata": {},
   "outputs": [
    {
     "data": {
      "text/plain": [
       "[1, 2, 3]"
      ]
     },
     "execution_count": 15,
     "metadata": {},
     "output_type": "execute_result"
    }
   ],
   "source": [
    "# enqueue\n",
    "\n",
    "queue.append(1)\n",
    "queue.append(2)\n",
    "queue.append(3)\n",
    "queue"
   ]
  },
  {
   "cell_type": "code",
   "execution_count": 16,
   "metadata": {},
   "outputs": [
    {
     "data": {
      "text/plain": [
       "[2, 3]"
      ]
     },
     "execution_count": 16,
     "metadata": {},
     "output_type": "execute_result"
    }
   ],
   "source": [
    "# dequeue\n",
    "\n",
    "queue.pop(0)\n",
    "queue"
   ]
  },
  {
   "cell_type": "code",
   "execution_count": 17,
   "metadata": {},
   "outputs": [
    {
     "data": {
      "text/plain": [
       "(2, 3)"
      ]
     },
     "execution_count": 17,
     "metadata": {},
     "output_type": "execute_result"
    }
   ],
   "source": [
    "queue[0], queue[-1]"
   ]
  }
 ],
 "metadata": {
  "kernelspec": {
   "display_name": "Python 3.10.4 ('dsa')",
   "language": "python",
   "name": "python3"
  },
  "language_info": {
   "codemirror_mode": {
    "name": "ipython",
    "version": 3
   },
   "file_extension": ".py",
   "mimetype": "text/x-python",
   "name": "python",
   "nbconvert_exporter": "python",
   "pygments_lexer": "ipython3",
   "version": "3.10.4"
  },
  "orig_nbformat": 4,
  "vscode": {
   "interpreter": {
    "hash": "0d6dd43efe11c094964d50703546b3f4892ad5efa9c82f100004b4750c73a6be"
   }
  }
 },
 "nbformat": 4,
 "nbformat_minor": 2
}
