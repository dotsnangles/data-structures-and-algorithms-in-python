{
 "cells": [
  {
   "cell_type": "markdown",
   "metadata": {},
   "source": [
    "## Linked List\n",
    "\n",
    "- Like arrays, Linked List is a linear data structure. \n",
    "- Unlike arrays, linked list elements are **not** stored at a **contiguous** location; \n",
    "- the elements are **linked using pointers**. \n",
    "- They include a series of connected nodes. \n",
    "- Here, **each node** stores **the data and the address of the next node**.\n",
    "\n",
    "### Why Linked List? \n",
    "\n",
    "- **Arrays** can be used to store linear data of similar types, \n",
    "- but arrays have the following **limitations**\n",
    "\n",
    "#### The size of the arrays is fixed\n",
    "\n",
    "- So we must know the **upper limit** on the number of elements in advance. \n",
    "- Also, generally, the **allocated memory** is **equal to** the **upper limit** irrespective of the usage. \n",
    "\n",
    "#### Insertion of a new element / Deletion of a existing element in an array of elements is expensive\n",
    "\n",
    "- The room has to be created for the new elements and to create room **existing elements have to be shifted** \n",
    "- but in Linked list if we have the head node then we can traverse to any node through it and insert new node at the required position.\n",
    "\n",
    "#### Example\n",
    "\n",
    "- In a system, if we maintain a sorted list of IDs in an array id[] = [1000, 1010, 1050, 2000, 2040]. \n",
    "- If we want to insert a new ID 1005, then to maintain the sorted order, \n",
    "- we have to move all the elements after 1000 (excluding 1000). \n",
    "- Deletion is also expensive with arrays until unless some special techniques are used. \n",
    "- For example, to delete 1010 in id[], everything after 1010 has to be moved \n",
    "- due to this so much work is being done which affects the efficiency of the code.\n",
    "\n",
    "### Advantages of Linked Lists over arrays\n",
    "\n",
    "- **Dynamic Array**.\n",
    "- **Ease** of **Insertion**/**Deletion**.\n",
    "\n",
    "### Drawbacks of Linked Lists\n",
    "\n",
    "- **Random access** is **not allowed**. \n",
    "- We have to **access elements sequentially** starting from the first node(head node). \n",
    "- So we **cannot do a binary search** with linked lists efficiently **with its default** implementation. \n",
    "- **Extra memory space** for a **pointer** is required with each element of the list. \n",
    "- **Not cache friendly**. Since array elements are contiguous locations, \n",
    "- there is locality of reference which is not there in case of linked lists.\n",
    "\n",
    "### Types of Linked Lists\n",
    "\n",
    "- **Simple Linked List**\n",
    "  - one can move or traverse the linked list in **only one direction**\n",
    "- **Doubly Linked List**\n",
    "  - one can move or traverse the linked list in **both directions** (Forward and Backward)\n",
    "- **Circular Linked List**\n",
    "  - **the last node** of the linked list **contains the link** of **the first/head node** of the linked list in its **next pointer** \n",
    "  - and **the first/head node** **contains the link** of **the last node** of the linked list in its **prev pointer**\n",
    "\n",
    "### Basic operations on Linked Lists\n",
    "\n",
    "- Deletion\n",
    "- Insertion\n",
    "- Search\n",
    "- Display\n",
    "\n",
    "### Representation of Linked Lists\n",
    "\n",
    "- A linked list is **represented by a pointer** to the first node of the linked list. \n",
    "- The first node is called the **head** of the linked list. \n",
    "- If the linked list is empty, then the value of the head points to NULL. \n",
    "\n",
    "#### Each node in a list consists of at least two parts\n",
    "\n",
    "- A **Data** Item (we can store integer, strings, or **any type** of data).\n",
    "- **Pointer** (Or Reference) to the next node (connects one node to another) or An address of another node\n",
    "\n",
    "### Simply put\n",
    "\n",
    "- A linked list is a linear data structure, in which the elements are not stored at contiguous memory locations.\n",
    "- Data\n",
    "- Pointer (Or Reference) to the next node\n",
    "- Head => Data/Next => Data/Next => Data/Next => Null"
   ]
  },
  {
   "cell_type": "code",
   "execution_count": 1,
   "metadata": {},
   "outputs": [],
   "source": [
    "class Node:\n",
    "\n",
    "\tdef __init__(self, data):\n",
    "\t\tself.data = data\n",
    "\t\tself.next = None\n",
    "\n",
    "\n",
    "class LinkedList:\n",
    "\n",
    "\tdef __init__(self):\n",
    "\t\tself.head = None"
   ]
  },
  {
   "cell_type": "code",
   "execution_count": 6,
   "metadata": {},
   "outputs": [
    {
     "name": "stdout",
     "output_type": "stream",
     "text": [
      "None\n"
     ]
    }
   ],
   "source": [
    "llist = LinkedList()\n",
    "print(llist.head)"
   ]
  },
  {
   "cell_type": "code",
   "execution_count": 9,
   "metadata": {},
   "outputs": [
    {
     "name": "stdout",
     "output_type": "stream",
     "text": [
      "llist.head 1\n",
      "second 2\n",
      "third 3\n"
     ]
    }
   ],
   "source": [
    "llist = LinkedList()\n",
    "\n",
    "llist.head = Node(1)\n",
    "print('llist.head', llist.head.data)\n",
    "\n",
    "second = Node(2)\n",
    "print('second', second.data)\n",
    "\n",
    "third = Node(3)\n",
    "print('third', third.data)\n",
    "\n",
    "llist.head.next = second\n",
    "\n",
    "second.next = third"
   ]
  },
  {
   "cell_type": "code",
   "execution_count": 10,
   "metadata": {},
   "outputs": [
    {
     "name": "stdout",
     "output_type": "stream",
     "text": [
      "1\n",
      "2\n",
      "3\n"
     ]
    }
   ],
   "source": [
    "class Node:\n",
    "\n",
    "\tdef __init__(self, data):\n",
    "\t\tself.data = data\n",
    "\t\tself.next = None\n",
    "\n",
    "\n",
    "class LinkedList:\n",
    "\n",
    "\tdef __init__(self):\n",
    "\t\tself.head = None\n",
    "\n",
    "\tdef printList(self):\n",
    "\t\ttemp = self.head\n",
    "\t\twhile (temp):\n",
    "\t\t\tprint (temp.data)\n",
    "\t\t\ttemp = temp.next\n",
    "\n",
    "\n",
    "llist = LinkedList()\n",
    "\n",
    "llist.head = Node(1)\n",
    "second = Node(2)\n",
    "third = Node(3)\n",
    "\n",
    "llist.head.next = second\n",
    "second.next = third\n",
    "\n",
    "llist.printList()"
   ]
  },
  {
   "cell_type": "code",
   "execution_count": 11,
   "metadata": {},
   "outputs": [],
   "source": [
    "class Node:\n",
    "\n",
    "    def __init__(self, data):\n",
    "        self.data = data\n",
    "        self.next = None"
   ]
  },
  {
   "cell_type": "code",
   "execution_count": 12,
   "metadata": {},
   "outputs": [],
   "source": [
    "head = Node(1)\n",
    "second = Node(2)\n",
    "third = Node(3)"
   ]
  },
  {
   "cell_type": "code",
   "execution_count": 14,
   "metadata": {},
   "outputs": [
    {
     "data": {
      "text/plain": [
       "(1, 2, 3)"
      ]
     },
     "execution_count": 14,
     "metadata": {},
     "output_type": "execute_result"
    }
   ],
   "source": [
    "head.data, second.data, third.data"
   ]
  },
  {
   "cell_type": "code",
   "execution_count": 15,
   "metadata": {},
   "outputs": [],
   "source": [
    "head.next = second\n",
    "second.next = third"
   ]
  },
  {
   "cell_type": "code",
   "execution_count": 17,
   "metadata": {},
   "outputs": [
    {
     "data": {
      "text/plain": [
       "(<__main__.Node at 0x7f007b2fad60>, <__main__.Node at 0x7f00900be490>, None)"
      ]
     },
     "execution_count": 17,
     "metadata": {},
     "output_type": "execute_result"
    }
   ],
   "source": [
    "head.next, second.next, third.next"
   ]
  }
 ],
 "metadata": {
  "kernelspec": {
   "display_name": "Python 3.9.12 ('base')",
   "language": "python",
   "name": "python3"
  },
  "language_info": {
   "codemirror_mode": {
    "name": "ipython",
    "version": 3
   },
   "file_extension": ".py",
   "mimetype": "text/x-python",
   "name": "python",
   "nbconvert_exporter": "python",
   "pygments_lexer": "ipython3",
   "version": "3.9.12"
  },
  "orig_nbformat": 4,
  "vscode": {
   "interpreter": {
    "hash": "8763e5ea16b716ad1eeffeab5f34109bd722594d0305e114e3d37565ed57b2a4"
   }
  }
 },
 "nbformat": 4,
 "nbformat_minor": 2
}
